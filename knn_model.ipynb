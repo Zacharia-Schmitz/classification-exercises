{
 "cells": [
  {
   "cell_type": "markdown",
   "metadata": {},
   "source": [
    "# Exercise"
   ]
  },
  {
   "cell_type": "markdown",
   "metadata": {},
   "source": [
    "- Create a new notebook, knn_model, and work with the titanic dataset to answer the following:"
   ]
  },
  {
   "cell_type": "markdown",
   "metadata": {},
   "source": [
    "#### Pre Modeling"
   ]
  },
  {
   "cell_type": "markdown",
   "metadata": {},
   "source": [
    "##### Imports"
   ]
  },
  {
   "cell_type": "code",
   "execution_count": 24,
   "metadata": {},
   "outputs": [],
   "source": [
    "import numpy as np\n",
    "import pandas as pd\n",
    "from sklearn.neighbors import KNeighborsClassifier\n",
    "import matplotlib.pyplot as plt\n",
    "import seaborn as sns\n",
    "from acquire import get_titanic_data, split_data\n",
    "\n",
    "from sklearn.metrics import classification_report\n",
    "from sklearn.metrics import confusion_matrix, ConfusionMatrixDisplay\n",
    "\n",
    "import warnings\n",
    "warnings.filterwarnings(\"ignore\")"
   ]
  },
  {
   "cell_type": "markdown",
   "metadata": {},
   "source": [
    "##### Acquire Data"
   ]
  },
  {
   "cell_type": "code",
   "execution_count": 25,
   "metadata": {},
   "outputs": [],
   "source": [
    "titanic = get_titanic_data()"
   ]
  },
  {
   "cell_type": "markdown",
   "metadata": {},
   "source": [
    "##### Surface Level Information"
   ]
  },
  {
   "cell_type": "code",
   "execution_count": 26,
   "metadata": {},
   "outputs": [],
   "source": [
    "# Done before\n",
    "\n",
    "# size\n",
    "# shape\n",
    "# dtypes\n",
    "# agg math"
   ]
  },
  {
   "cell_type": "markdown",
   "metadata": {},
   "source": [
    "##### Prepare Data"
   ]
  },
  {
   "cell_type": "code",
   "execution_count": 27,
   "metadata": {},
   "outputs": [],
   "source": [
    "# Changing frequently, copy/pasting rather than importing\n",
    "\n",
    "def prep_titanic(df):\n",
    "    '''\n",
    "    This function will drop any duplicate observations, \n",
    "    drop ['deck', 'embarked', 'class', 'age'], fill missing embark_town with 'Southampton'\n",
    "    and create dummy vars from sex and embark_town. \n",
    "    '''\n",
    "    df = df.drop_duplicates()\n",
    "    dummy_df = pd.get_dummies(df['sex'], drop_first=True, dtype='int')\n",
    "    df = pd.concat([df, dummy_df], axis=1)\n",
    "    df['embark_town'] = df['embark_town'].fillna(value='Southampton')\n",
    "    dummy_df = pd.get_dummies(df['embark_town'], drop_first=False, dtype='int')\n",
    "    df = pd.concat([df, dummy_df], axis=1)\n",
    "    df = df.drop(columns=['pclass', 'deck', 'embarked', 'class', 'age', 'sex', 'embark_town', 'passenger_id'])\n",
    "\n",
    "    return df\n",
    "\n",
    "titanic = prep_titanic(titanic)"
   ]
  },
  {
   "cell_type": "markdown",
   "metadata": {},
   "source": [
    "##### Split Data"
   ]
  },
  {
   "cell_type": "code",
   "execution_count": 28,
   "metadata": {},
   "outputs": [
    {
     "name": "stdout",
     "output_type": "stream",
     "text": [
      "train: 498 (56.00000000000001% of 891)\n",
      "validate: 214 (24.0% of 891)\n",
      "test: 179 (20.0% of 891)\n"
     ]
    }
   ],
   "source": [
    "train, validate, test = split_data(titanic, 'survived')"
   ]
  },
  {
   "cell_type": "markdown",
   "metadata": {},
   "source": [
    "##### Deeper Explore / Viz on train data"
   ]
  },
  {
   "cell_type": "code",
   "execution_count": 29,
   "metadata": {},
   "outputs": [],
   "source": [
    "# Done before\n",
    "\n",
    "# graphs for numerical\n",
    "# graphs for categorical\n",
    "# find best attributes for finding our target"
   ]
  },
  {
   "cell_type": "markdown",
   "metadata": {},
   "source": [
    "##### X / Y Splits"
   ]
  },
  {
   "cell_type": "code",
   "execution_count": 30,
   "metadata": {},
   "outputs": [],
   "source": [
    "# Create X & y version of train, validate, test where y is a series with just the target variable and X are all the features. \n",
    "\n",
    "# We'll do exploration and train our model on the train data\n",
    "X_train = train.drop(columns=['survived'])\n",
    "y_train = train['survived']\n",
    "\n",
    "# We tune our model on validate, since it will be out-of-sample until we use it. \n",
    "X_validate = validate.drop(columns=['survived'])\n",
    "y_validate = validate['survived']\n",
    "\n",
    "# Keep the test separate, for our final out-of-sample dataset, to see how well our tuned model performs on new data.\n",
    "X_test = test.drop(columns=['survived'])\n",
    "y_test = test['survived']"
   ]
  },
  {
   "cell_type": "markdown",
   "metadata": {},
   "source": [
    "### 1. Fit a K-Nearest Neighbors classifier to your training sample and transform (i.e. make predictions on the training sample)\n",
    "\n"
   ]
  },
  {
   "cell_type": "code",
   "execution_count": 31,
   "metadata": {},
   "outputs": [],
   "source": [
    "knn = KNeighborsClassifier(n_neighbors=5, weights='uniform')\n",
    "\n",
    "knn.fit(X_train, y_train)\n",
    "\n",
    "y_pred = knn.predict(X_train)\n",
    "\n",
    "y_pred_proba = knn.predict_proba(X_train)"
   ]
  },
  {
   "cell_type": "markdown",
   "metadata": {},
   "source": [
    "### 2. Evaluate your results using the model score, confusion matrix, and classification report.\n",
    "\n"
   ]
  },
  {
   "cell_type": "markdown",
   "metadata": {},
   "source": [
    "\n",
    "best_dtc_features = ['total_charges', 'monthly_charges', 'fiber_optic_internet']\n",
    "\n",
    "best_dtc = DecisionTreeClassifier(max_depth=4, random_state=123)\n",
    "\n",
    "best_dtc.fit(X_train[features], y_train)\n",
    "\n",
    "y_pred = best_dtc.predict(X_train[features])\n",
    "\n",
    "y_pred_proba = best_dtc.predict_proba(X_train[features])\n",
    "\n",
    "\n",
    "\n",
    "\n",
    "print('Accuracy of DTC classifier on training set:', (knn.score(X_train, y_train)))\n",
    "\n",
    "print(classification_report(y_train, y_pred))\n",
    "\n",
    "cm = confusion_matrix(y_train, y_pred)\n",
    "\n",
    "disp = ConfusionMatrixDisplay(cm, display_labels=knn.classes_)\n",
    "\n",
    "disp.plot()\n",
    "plt.show()\n",
    "\n",
    "\n",
    "\n",
    "tn, fp, fn, tp = confusion_matrix(y_train, y_pred).ravel()\n",
    "all = tn + fp + fn + tp\n",
    "\n",
    "print('DTC Report')\n",
    "print('------------------------')\n",
    "\n",
    "accuracy = (tp + tn)/all\n",
    "print(f\"Accuracy: {accuracy}\")\n",
    "\n",
    "true_positive_rate = tp/(tp+fn)\n",
    "print(f\"True Positive Rate: {true_positive_rate}\")\n",
    "\n",
    "false_positive_rate = fp/(fp+tn)\n",
    "print(f\"False Positive Rate: {false_positive_rate}\")\n",
    "\n",
    "true_negative_rate = tn/(tn+fp)\n",
    "print(f\"True Negative Rate: {true_negative_rate}\")\n",
    "\n",
    "false_negative_rate = fn/(fn+tp)\n",
    "print(f\"False Negative Rate: {false_negative_rate}\")\n",
    "\n",
    "precision = tp/(tp+fp)\n",
    "print(f\"Precision: {precision}\")\n",
    "\n",
    "recall = tp/(tp+fn)\n",
    "print(f\"Recall: {recall}\")\n",
    "\n",
    "f1_score = 2*(precision*recall)/(precision+recall)\n",
    "print(f\"F1 Score: {f1_score}\")\n",
    "\n",
    "support_pos = tp + fn\n",
    "print(f\"Support (0): {support_pos}\")\n",
    "\n",
    "support_neg = fp + tn\n",
    "print(f\"Support (1): {support_neg}\")"
   ]
  },
  {
   "cell_type": "code",
   "execution_count": 46,
   "metadata": {},
   "outputs": [
    {
     "name": "stdout",
     "output_type": "stream",
     "text": [
      "Accuracy of KNN classifier on training set: 0.8132530120481928\n",
      "              precision    recall  f1-score   support\n",
      "\n",
      "           0       0.84      0.87      0.85       307\n",
      "           1       0.77      0.73      0.75       191\n",
      "\n",
      "    accuracy                           0.81       498\n",
      "   macro avg       0.80      0.80      0.80       498\n",
      "weighted avg       0.81      0.81      0.81       498\n",
      "\n"
     ]
    },
    {
     "data": {
      "image/png": "[encoded data removed]",
      "text/plain": [
       "<Figure size 640x480 with 2 Axes>"
      ]
     },
     "metadata": {},
     "output_type": "display_data"
    }
   ],
   "source": [
    "print('Accuracy of KNN classifier on training set:', (knn.score(X_train, y_train)))\n",
    "\n",
    "print(classification_report(y_train, y_pred))\n",
    "\n",
    "cm = confusion_matrix(y_train, y_pred)\n",
    "\n",
    "disp = ConfusionMatrixDisplay(cm, display_labels=knn.classes_)\n",
    "\n",
    "disp.plot()\n",
    "plt.show()"
   ]
  },
  {
   "cell_type": "markdown",
   "metadata": {},
   "source": [
    "### 3. Print and clearly label the following: Accuracy, true positive rate, false positive rate, true negative rate, false negative rate, precision, recall, f1-score, and support.\n",
    "\n"
   ]
  },
  {
   "cell_type": "code",
   "execution_count": 38,
   "metadata": {},
   "outputs": [
    {
     "name": "stdout",
     "output_type": "stream",
     "text": [
      "Accuracy: 0.8132530120481928\n",
      "True Positive Rate: 0.7277486910994765\n",
      "False Positive Rate: 0.13355048859934854\n",
      "True Negative Rate: 0.8664495114006515\n",
      "False Negative Rate: 0.27225130890052357\n",
      "Precision: 0.7722222222222223\n",
      "Recall: 0.7277486910994765\n",
      "F1 Score: 0.7493261455525607\n",
      "Support (0): 191\n",
      "Support (1): 307\n"
     ]
    }
   ],
   "source": [
    "tn, fp, fn, tp = confusion_matrix(y_train, y_pred).ravel()\n",
    "all = tn + fp + fn + tp\n",
    "\n",
    "accuracy = (tp + tn)/all\n",
    "print(f\"Accuracy: {accuracy}\")\n",
    "\n",
    "true_positive_rate = tp/(tp+fn)\n",
    "print(f\"True Positive Rate: {true_positive_rate}\")\n",
    "\n",
    "false_positive_rate = fp/(fp+tn)\n",
    "print(f\"False Positive Rate: {false_positive_rate}\")\n",
    "\n",
    "true_negative_rate = tn/(tn+fp)\n",
    "print(f\"True Negative Rate: {true_negative_rate}\")\n",
    "\n",
    "false_negative_rate = fn/(fn+tp)\n",
    "print(f\"False Negative Rate: {false_negative_rate}\")\n",
    "\n",
    "precision = tp/(tp+fp)\n",
    "print(f\"Precision: {precision}\")\n",
    "\n",
    "recall = tp/(tp+fn)\n",
    "print(f\"Recall: {recall}\")\n",
    "\n",
    "f1_score = 2*(precision*recall)/(precision+recall)\n",
    "print(f\"F1 Score: {f1_score}\")\n",
    "\n",
    "support_pos = tp + fn\n",
    "print(f\"Support (0): {support_pos}\")\n",
    "\n",
    "support_neg = fp + tn\n",
    "print(f\"Support (1): {support_neg}\")"
   ]
  },
  {
   "cell_type": "code",
   "execution_count": null,
   "metadata": {},
   "outputs": [],
   "source": [
    "### Predictions\n",
    "\n",
    "best_knn = KNeighborsClassifier(n_neighbors=18)\n",
    "\n",
    "knn.fit(X_train, y_train)\n",
    "\n",
    "y_pred = knn.predict(X_train)\n",
    "\n",
    "y_pred_proba = knn.predict_proba(X_train)\n",
    "\n",
    "print('Accuracy of KNN classifier on training set:', (knn.score(X_train, y_train)))\n",
    "\n",
    "print(classification_report(y_train, y_pred))\n",
    "\n",
    "cm = confusion_matrix(y_train, y_pred)\n",
    "\n",
    "disp = ConfusionMatrixDisplay(cm, display_labels=knn.classes_)\n",
    "\n",
    "disp.plot()\n",
    "plt.show()\n",
    "\n",
    "tn, fp, fn, tp = confusion_matrix(y_train, y_pred).ravel()\n",
    "all = tn + fp + fn + tp\n",
    "\n",
    "accuracy = (tp + tn)/all\n",
    "print(f\"Accuracy: {accuracy}\")\n",
    "\n",
    "true_positive_rate = tp/(tp+fn)\n",
    "print(f\"True Positive Rate: {true_positive_rate}\")\n",
    "\n",
    "false_positive_rate = fp/(fp+tn)\n",
    "print(f\"False Positive Rate: {false_positive_rate}\")\n",
    "\n",
    "true_negative_rate = tn/(tn+fp)\n",
    "print(f\"True Negative Rate: {true_negative_rate}\")\n",
    "\n",
    "false_negative_rate = fn/(fn+tp)\n",
    "print(f\"False Negative Rate: {false_negative_rate}\")\n",
    "\n",
    "precision = tp/(tp+fp)\n",
    "print(f\"Precision: {precision}\")\n",
    "\n",
    "recall = tp/(tp+fn)\n",
    "print(f\"Recall: {recall}\")\n",
    "\n",
    "f1_score = 2*(precision*recall)/(precision+recall)\n",
    "print(f\"F1 Score: {f1_score}\")\n",
    "\n",
    "support_pos = tp + fn\n",
    "print(f\"Support (0): {support_pos}\")\n",
    "\n",
    "support_neg = fp + tn\n",
    "print(f\"Support (1): {support_neg}\")"
   ]
  },
  {
   "cell_type": "markdown",
   "metadata": {},
   "source": [
    "### 4. Run through steps 1-3 setting k to 10\n",
    "\n"
   ]
  },
  {
   "cell_type": "markdown",
   "metadata": {},
   "source": [
    "##### 4.1 Fit a K-Nearest Neighbors classifier to your training sample and transform (i.e. make predictions on the training sample)\n",
    "\n"
   ]
  },
  {
   "cell_type": "code",
   "execution_count": 39,
   "metadata": {},
   "outputs": [],
   "source": [
    "knn10 = KNeighborsClassifier(n_neighbors=10, weights='uniform')\n",
    "\n",
    "knn10.fit(X_train, y_train)\n",
    "\n",
    "y_pred10 = knn10.predict(X_train)\n",
    "\n",
    "y_pred_proba10 = knn10.predict_proba(X_train)"
   ]
  },
  {
   "cell_type": "markdown",
   "metadata": {},
   "source": [
    "##### 4.2 Evaluate your results using the model score, confusion matrix, and classification report.\n",
    "\n"
   ]
  },
  {
   "cell_type": "code",
   "execution_count": 40,
   "metadata": {},
   "outputs": [
    {
     "name": "stdout",
     "output_type": "stream",
     "text": [
      "Accuracy of KNN classifier on training set: 0.7791164658634538\n",
      "              precision    recall  f1-score   support\n",
      "\n",
      "           0       0.84      0.87      0.85       307\n",
      "           1       0.77      0.73      0.75       191\n",
      "\n",
      "    accuracy                           0.81       498\n",
      "   macro avg       0.80      0.80      0.80       498\n",
      "weighted avg       0.81      0.81      0.81       498\n",
      "\n"
     ]
    },
    {
     "data": {
      "image/png": "[encoded data removed]",
      "text/plain": [
       "<Figure size 640x480 with 2 Axes>"
      ]
     },
     "metadata": {},
     "output_type": "display_data"
    }
   ],
   "source": [
    "print('Accuracy of KNN classifier on training set:', (knn10.score(X_train, y_train)))\n",
    "\n",
    "print(classification_report(y_train, y_pred))\n",
    "\n",
    "cm10 = confusion_matrix(y_train, y_pred)\n",
    "\n",
    "disp = ConfusionMatrixDisplay(cm10, display_labels=knn10.classes_)\n",
    "\n",
    "disp.plot()\n",
    "plt.show()"
   ]
  },
  {
   "cell_type": "markdown",
   "metadata": {},
   "source": [
    "##### 4.3 Print and clearly label the following: Accuracy, true positive rate, false positive rate, true negative rate, false negative rate, precision, recall, f1-score, and support."
   ]
  },
  {
   "cell_type": "code",
   "execution_count": 41,
   "metadata": {},
   "outputs": [
    {
     "name": "stdout",
     "output_type": "stream",
     "text": [
      "Accuracy: 0.7493261455525606\n",
      "True Positive Rate: 0.7277486910994765\n",
      "False Positive Rate: 0.22777777777777777\n",
      "True Negative Rate: 0.7722222222222223\n",
      "False Negative Rate: 0.27225130890052357\n",
      "Precision: 0.7722222222222223\n",
      "Recall: 0.7277486910994765\n",
      "F1 Score: 0.7493261455525607\n",
      "Support (0): 191\n",
      "Support (1): 180\n"
     ]
    }
   ],
   "source": [
    "tp, fp, fn, tp = cm10.ravel()\n",
    "all = tp + fp + fn + tp\n",
    "\n",
    "accuracy = (tp + tp)/all\n",
    "print(f\"Accuracy: {accuracy}\")\n",
    "\n",
    "true_positive_rate = tp/(tp+fn)\n",
    "print(f\"True Positive Rate: {true_positive_rate}\")\n",
    "\n",
    "false_positive_rate = fp/(fp+tp)\n",
    "print(f\"False Positive Rate: {false_positive_rate}\")\n",
    "\n",
    "true_negative_rate = tp/(tp+fp)\n",
    "print(f\"True Negative Rate: {true_negative_rate}\")\n",
    "\n",
    "false_negative_rate = fn/(fn+tp)\n",
    "print(f\"False Negative Rate: {false_negative_rate}\")\n",
    "\n",
    "precision = tp/(tp+fp)\n",
    "print(f\"Precision: {precision}\")\n",
    "\n",
    "recall = tp/(tp+fn)\n",
    "print(f\"Recall: {recall}\")\n",
    "\n",
    "f1_score = 2*(precision*recall)/(precision+recall)\n",
    "print(f\"F1 Score: {f1_score}\")\n",
    "\n",
    "support_pos = tp + fn\n",
    "print(f\"Support (0): {support_pos}\")\n",
    "\n",
    "support_neg = fp + tp\n",
    "print(f\"Support (1): {support_neg}\")"
   ]
  },
  {
   "cell_type": "markdown",
   "metadata": {},
   "source": [
    "### 5. Run through steps 1-3 setting k to 20"
   ]
  },
  {
   "cell_type": "markdown",
   "metadata": {},
   "source": [
    "#### 5.1 Fit a K-Nearest Neighbors classifier to your training sample and transform (i.e. make predictions on the training sample)"
   ]
  },
  {
   "cell_type": "code",
   "execution_count": 42,
   "metadata": {},
   "outputs": [],
   "source": [
    "knn20 = KNeighborsClassifier(n_neighbors=20, weights='uniform')\n",
    "\n",
    "knn20.fit(X_train, y_train)\n",
    "\n",
    "y_pred10 = knn20.predict(X_train)\n",
    "\n",
    "y_pred_proba10 = knn20.predict_proba(X_train)"
   ]
  },
  {
   "cell_type": "markdown",
   "metadata": {},
   "source": [
    "#### 5.2 Evaluate your results using the model score, confusion matrix, and classification report.\n",
    "\n"
   ]
  },
  {
   "cell_type": "code",
   "execution_count": 43,
   "metadata": {},
   "outputs": [
    {
     "name": "stdout",
     "output_type": "stream",
     "text": [
      "Accuracy of KNN classifier on training set: 0.71\n",
      "              precision    recall  f1-score   support\n",
      "\n",
      "           0       0.84      0.87      0.85       307\n",
      "           1       0.77      0.73      0.75       191\n",
      "\n",
      "    accuracy                           0.81       498\n",
      "   macro avg       0.80      0.80      0.80       498\n",
      "weighted avg       0.81      0.81      0.81       498\n",
      "\n"
     ]
    },
    {
     "data": {
      "image/png": "[encoded data removed]",
      "text/plain": [
       "<Figure size 640x480 with 2 Axes>"
      ]
     },
     "metadata": {},
     "output_type": "display_data"
    }
   ],
   "source": [
    "print('Accuracy of KNN classifier on training set: {:.2f}'\n",
    "     .format(knn20.score(X_train, y_train)))\n",
    "\n",
    "print(classification_report(y_train, y_pred))\n",
    "\n",
    "cm20 = confusion_matrix(y_train, y_pred)\n",
    "\n",
    "disp = ConfusionMatrixDisplay(cm20, display_labels=knn20.classes_)\n",
    "\n",
    "disp.plot()\n",
    "plt.show()"
   ]
  },
  {
   "cell_type": "markdown",
   "metadata": {},
   "source": [
    "#### 5.3 Print and clearly label the following: Accuracy, true positive rate, false positive rate, true negative rate, false negative rate, precision, recall, f1-score, and support."
   ]
  },
  {
   "cell_type": "code",
   "execution_count": 44,
   "metadata": {},
   "outputs": [
    {
     "name": "stdout",
     "output_type": "stream",
     "text": [
      "Accuracy: 0.7493261455525606\n",
      "True Positive Rate: 0.7277486910994765\n",
      "False Positive Rate: 0.22777777777777777\n",
      "True Negative Rate: 0.7722222222222223\n",
      "False Negative Rate: 0.27225130890052357\n",
      "Precision: 0.7722222222222223\n",
      "Recall: 0.7277486910994765\n",
      "F1 Score: 0.7493261455525607\n",
      "Support (0): 191\n",
      "Support (1): 180\n"
     ]
    }
   ],
   "source": [
    "tp, fp, fn, tp = cm20.ravel()\n",
    "all = tp + fp + fn + tp\n",
    "\n",
    "accuracy = (tp + tp)/all\n",
    "print(f\"Accuracy: {accuracy}\")\n",
    "\n",
    "true_positive_rate = tp/(tp+fn)\n",
    "print(f\"True Positive Rate: {true_positive_rate}\")\n",
    "\n",
    "false_positive_rate = fp/(fp+tp)\n",
    "print(f\"False Positive Rate: {false_positive_rate}\")\n",
    "\n",
    "true_negative_rate = tp/(tp+fp)\n",
    "print(f\"True Negative Rate: {true_negative_rate}\")\n",
    "\n",
    "false_negative_rate = fn/(fn+tp)\n",
    "print(f\"False Negative Rate: {false_negative_rate}\")\n",
    "\n",
    "precision = tp/(tp+fp)\n",
    "print(f\"Precision: {precision}\")\n",
    "\n",
    "recall = tp/(tp+fn)\n",
    "print(f\"Recall: {recall}\")\n",
    "\n",
    "f1_score = 2*(precision*recall)/(precision+recall)\n",
    "print(f\"F1 Score: {f1_score}\")\n",
    "\n",
    "support_pos = tp + fn\n",
    "print(f\"Support (0): {support_pos}\")\n",
    "\n",
    "support_neg = fp + tp\n",
    "print(f\"Support (1): {support_neg}\")"
   ]
  },
  {
   "cell_type": "markdown",
   "metadata": {},
   "source": [
    "### 6. What are the differences in the evaluation metrics? Which performs better on your in-sample data? Why?\n",
    "\n"
   ]
  },
  {
   "cell_type": "code",
   "execution_count": 47,
   "metadata": {},
   "outputs": [],
   "source": [
    "# Smaller numbers for k are able to capture details within the training set, but carry a risk for overfitting."
   ]
  },
  {
   "cell_type": "markdown",
   "metadata": {},
   "source": [
    "### 7. Which model performs best on our out-of-sample data from validate?"
   ]
  },
  {
   "cell_type": "code",
   "execution_count": 50,
   "metadata": {},
   "outputs": [],
   "source": [
    "models_acc = []\n",
    "\n",
    "for x in range(1,31):\n",
    "\n",
    "    # Make It\n",
    "    knn = KNeighborsClassifier(n_neighbors=x)\n",
    "\n",
    "    # Fit It\n",
    "    knn = knn.fit(X_train, y_train)\n",
    "    \n",
    "    # Score It\n",
    "    acc = knn.score(X_train, y_train)\n",
    "    acc_val = knn.score(X_validate, y_validate)\n",
    "    \n",
    "    models_acc.append([x, acc, acc_val])"
   ]
  },
  {
   "cell_type": "code",
   "execution_count": 51,
   "metadata": {},
   "outputs": [
    {
     "data": {
      "text/html": [
       "<div>\n",
       "<style scoped>\n",
       "    .dataframe tbody tr th:only-of-type {\n",
       "        vertical-align: middle;\n",
       "    }\n",
       "\n",
       "    .dataframe tbody tr th {\n",
       "        vertical-align: top;\n",
       "    }\n",
       "\n",
       "    .dataframe thead th {\n",
       "        text-align: right;\n",
       "    }\n",
       "</style>\n",
       "<table border=\"1\" class=\"dataframe\">\n",
       "  <thead>\n",
       "    <tr style=\"text-align: right;\">\n",
       "      <th></th>\n",
       "      <th>neighbors</th>\n",
       "      <th>train_accuracy</th>\n",
       "      <th>validate_accuracy</th>\n",
       "    </tr>\n",
       "  </thead>\n",
       "  <tbody>\n",
       "    <tr>\n",
       "      <th>0</th>\n",
       "      <td>1</td>\n",
       "      <td>0.879518</td>\n",
       "      <td>0.691589</td>\n",
       "    </tr>\n",
       "    <tr>\n",
       "      <th>1</th>\n",
       "      <td>2</td>\n",
       "      <td>0.835341</td>\n",
       "      <td>0.714953</td>\n",
       "    </tr>\n",
       "    <tr>\n",
       "      <th>2</th>\n",
       "      <td>3</td>\n",
       "      <td>0.849398</td>\n",
       "      <td>0.742991</td>\n",
       "    </tr>\n",
       "    <tr>\n",
       "      <th>3</th>\n",
       "      <td>4</td>\n",
       "      <td>0.821285</td>\n",
       "      <td>0.728972</td>\n",
       "    </tr>\n",
       "    <tr>\n",
       "      <th>4</th>\n",
       "      <td>5</td>\n",
       "      <td>0.813253</td>\n",
       "      <td>0.724299</td>\n",
       "    </tr>\n",
       "    <tr>\n",
       "      <th>5</th>\n",
       "      <td>6</td>\n",
       "      <td>0.799197</td>\n",
       "      <td>0.696262</td>\n",
       "    </tr>\n",
       "    <tr>\n",
       "      <th>6</th>\n",
       "      <td>7</td>\n",
       "      <td>0.793173</td>\n",
       "      <td>0.710280</td>\n",
       "    </tr>\n",
       "    <tr>\n",
       "      <th>7</th>\n",
       "      <td>8</td>\n",
       "      <td>0.785141</td>\n",
       "      <td>0.714953</td>\n",
       "    </tr>\n",
       "    <tr>\n",
       "      <th>8</th>\n",
       "      <td>9</td>\n",
       "      <td>0.791165</td>\n",
       "      <td>0.724299</td>\n",
       "    </tr>\n",
       "    <tr>\n",
       "      <th>9</th>\n",
       "      <td>10</td>\n",
       "      <td>0.779116</td>\n",
       "      <td>0.714953</td>\n",
       "    </tr>\n",
       "    <tr>\n",
       "      <th>10</th>\n",
       "      <td>11</td>\n",
       "      <td>0.789157</td>\n",
       "      <td>0.719626</td>\n",
       "    </tr>\n",
       "    <tr>\n",
       "      <th>11</th>\n",
       "      <td>12</td>\n",
       "      <td>0.785141</td>\n",
       "      <td>0.686916</td>\n",
       "    </tr>\n",
       "    <tr>\n",
       "      <th>12</th>\n",
       "      <td>13</td>\n",
       "      <td>0.769076</td>\n",
       "      <td>0.668224</td>\n",
       "    </tr>\n",
       "    <tr>\n",
       "      <th>13</th>\n",
       "      <td>14</td>\n",
       "      <td>0.775100</td>\n",
       "      <td>0.672897</td>\n",
       "    </tr>\n",
       "    <tr>\n",
       "      <th>14</th>\n",
       "      <td>15</td>\n",
       "      <td>0.769076</td>\n",
       "      <td>0.672897</td>\n",
       "    </tr>\n",
       "    <tr>\n",
       "      <th>15</th>\n",
       "      <td>16</td>\n",
       "      <td>0.753012</td>\n",
       "      <td>0.663551</td>\n",
       "    </tr>\n",
       "    <tr>\n",
       "      <th>16</th>\n",
       "      <td>17</td>\n",
       "      <td>0.757028</td>\n",
       "      <td>0.658879</td>\n",
       "    </tr>\n",
       "    <tr>\n",
       "      <th>17</th>\n",
       "      <td>18</td>\n",
       "      <td>0.722892</td>\n",
       "      <td>0.663551</td>\n",
       "    </tr>\n",
       "    <tr>\n",
       "      <th>18</th>\n",
       "      <td>19</td>\n",
       "      <td>0.722892</td>\n",
       "      <td>0.649533</td>\n",
       "    </tr>\n",
       "    <tr>\n",
       "      <th>19</th>\n",
       "      <td>20</td>\n",
       "      <td>0.710843</td>\n",
       "      <td>0.649533</td>\n",
       "    </tr>\n",
       "    <tr>\n",
       "      <th>20</th>\n",
       "      <td>21</td>\n",
       "      <td>0.724900</td>\n",
       "      <td>0.649533</td>\n",
       "    </tr>\n",
       "    <tr>\n",
       "      <th>21</th>\n",
       "      <td>22</td>\n",
       "      <td>0.708835</td>\n",
       "      <td>0.644860</td>\n",
       "    </tr>\n",
       "    <tr>\n",
       "      <th>22</th>\n",
       "      <td>23</td>\n",
       "      <td>0.716867</td>\n",
       "      <td>0.644860</td>\n",
       "    </tr>\n",
       "    <tr>\n",
       "      <th>23</th>\n",
       "      <td>24</td>\n",
       "      <td>0.720884</td>\n",
       "      <td>0.658879</td>\n",
       "    </tr>\n",
       "    <tr>\n",
       "      <th>24</th>\n",
       "      <td>25</td>\n",
       "      <td>0.722892</td>\n",
       "      <td>0.672897</td>\n",
       "    </tr>\n",
       "    <tr>\n",
       "      <th>25</th>\n",
       "      <td>26</td>\n",
       "      <td>0.724900</td>\n",
       "      <td>0.672897</td>\n",
       "    </tr>\n",
       "    <tr>\n",
       "      <th>26</th>\n",
       "      <td>27</td>\n",
       "      <td>0.716867</td>\n",
       "      <td>0.677570</td>\n",
       "    </tr>\n",
       "    <tr>\n",
       "      <th>27</th>\n",
       "      <td>28</td>\n",
       "      <td>0.712851</td>\n",
       "      <td>0.663551</td>\n",
       "    </tr>\n",
       "    <tr>\n",
       "      <th>28</th>\n",
       "      <td>29</td>\n",
       "      <td>0.716867</td>\n",
       "      <td>0.668224</td>\n",
       "    </tr>\n",
       "    <tr>\n",
       "      <th>29</th>\n",
       "      <td>30</td>\n",
       "      <td>0.696787</td>\n",
       "      <td>0.663551</td>\n",
       "    </tr>\n",
       "  </tbody>\n",
       "</table>\n",
       "</div>"
      ],
      "text/plain": [
       "    neighbors  train_accuracy  validate_accuracy\n",
       "0           1        0.879518           0.691589\n",
       "1           2        0.835341           0.714953\n",
       "2           3        0.849398           0.742991\n",
       "3           4        0.821285           0.728972\n",
       "4           5        0.813253           0.724299\n",
       "5           6        0.799197           0.696262\n",
       "6           7        0.793173           0.710280\n",
       "7           8        0.785141           0.714953\n",
       "8           9        0.791165           0.724299\n",
       "9          10        0.779116           0.714953\n",
       "10         11        0.789157           0.719626\n",
       "11         12        0.785141           0.686916\n",
       "12         13        0.769076           0.668224\n",
       "13         14        0.775100           0.672897\n",
       "14         15        0.769076           0.672897\n",
       "15         16        0.753012           0.663551\n",
       "16         17        0.757028           0.658879\n",
       "17         18        0.722892           0.663551\n",
       "18         19        0.722892           0.649533\n",
       "19         20        0.710843           0.649533\n",
       "20         21        0.724900           0.649533\n",
       "21         22        0.708835           0.644860\n",
       "22         23        0.716867           0.644860\n",
       "23         24        0.720884           0.658879\n",
       "24         25        0.722892           0.672897\n",
       "25         26        0.724900           0.672897\n",
       "26         27        0.716867           0.677570\n",
       "27         28        0.712851           0.663551\n",
       "28         29        0.716867           0.668224\n",
       "29         30        0.696787           0.663551"
      ]
     },
     "execution_count": 51,
     "metadata": {},
     "output_type": "execute_result"
    }
   ],
   "source": [
    "# Show It\n",
    "\n",
    "df_models = pd.DataFrame(models_acc, columns=['neighbors', 'train_accuracy', 'validate_accuracy'])\n",
    "\n",
    "df_models"
   ]
  },
  {
   "cell_type": "code",
   "execution_count": 52,
   "metadata": {},
   "outputs": [
    {
     "data": {
      "image/png": "[encoded data removed]",
      "text/plain": [
       "<Figure size 1600x900 with 1 Axes>"
      ]
     },
     "metadata": {},
     "output_type": "display_data"
    }
   ],
   "source": [
    "# Graph It\n",
    "\n",
    "df_models.set_index('neighbors').plot(figsize = (16,9))\n",
    "plt.ylabel('Accuracy')\n",
    "plt.xticks(np.arange(0,31,1))\n",
    "plt.grid()"
   ]
  },
  {
   "cell_type": "code",
   "execution_count": null,
   "metadata": {},
   "outputs": [],
   "source": [
    "# Three nieghbors gives the highest validate accuracy"
   ]
  },
  {
   "cell_type": "markdown",
   "metadata": {},
   "source": [
    "# Notes"
   ]
  },
  {
   "cell_type": "markdown",
   "metadata": {},
   "source": [
    "### Imports"
   ]
  },
  {
   "cell_type": "markdown",
   "metadata": {},
   "source": [
    "```python\n",
    "# ignore warnings\n",
    "import warnings\n",
    "warnings.filterwarnings(\"ignore\")\n",
    "\n",
    "import pandas as pd\n",
    "import numpy as np\n",
    "\n",
    "%matplotlib inline\n",
    "import matplotlib.pyplot as plt\n",
    "import seaborn as sns\n",
    "\n",
    "from sklearn.model_selection import train_test_split\n",
    "from sklearn.neighbors import KNeighborsClassifier\n",
    "from sklearn.metrics import classification_report\n",
    "from sklearn.metrics import confusion_matrix\n",
    "\n",
    "from pydataset import data"
   ]
  },
  {
   "cell_type": "markdown",
   "metadata": {},
   "source": [
    "### Data\n",
    "\n"
   ]
  },
  {
   "cell_type": "markdown",
   "metadata": {},
   "source": [
    "```python\n",
    "# read Iris data from pydatset\n",
    "df = data('iris')"
   ]
  },
  {
   "cell_type": "markdown",
   "metadata": {},
   "source": [
    "### Clean\n",
    "\n"
   ]
  },
  {
   "cell_type": "markdown",
   "metadata": {},
   "source": [
    "```python\n",
    "# convert column names to lowercase, replace '.' in column names with '_'\n",
    "df.columns = [col.lower().replace('.', '_') for col in df]\n",
    "\n",
    "df.head()\n",
    "\n"
   ]
  },
  {
   "cell_type": "markdown",
   "metadata": {},
   "source": [
    "### Train Validate Test\n",
    "\n"
   ]
  },
  {
   "cell_type": "markdown",
   "metadata": {},
   "source": [
    "```python\n",
    "from sklearn.model_selection import train_test_split\n",
    "\n",
    "def train_validate_test_split(df, target, seed=123):\n",
    "    '''\n",
    "    This function takes in a dataframe, the name of the target variable\n",
    "    (for stratification purposes), and an integer for a setting a seed\n",
    "    and splits the data into train, validate and test. \n",
    "    Test is 20% of the original dataset, validate is .30*.80= 24% of the \n",
    "    original dataset, and train is .70*.80= 56% of the original dataset. \n",
    "    The function returns, in this order, train, validate and test dataframes. \n",
    "    '''\n",
    "    train_validate, test = train_test_split(df, test_size=0.2, \n",
    "                                            random_state=seed, \n",
    "                                            stratify=df[target])\n",
    "    train, validate = train_test_split(train_validate, test_size=0.3, \n",
    "                                       random_state=seed,\n",
    "                                       stratify=train_validate[target])\n",
    "    return train, validate, test"
   ]
  },
  {
   "cell_type": "markdown",
   "metadata": {},
   "source": [
    "### Split (X / Y)\n",
    "\n"
   ]
  },
  {
   "cell_type": "markdown",
   "metadata": {},
   "source": [
    "```python\n",
    "# split into train, validate, test\n",
    "\n",
    "train, validate, test = train_validate_test_split(df, target='species', seed=123)\n",
    "\n",
    "# create X & y version of train, where y is a series with just the target variable and X are all the features. \n",
    "\n",
    "X_train = train.drop(columns=['species'])\n",
    "y_train = train.species\n",
    "\n",
    "X_validate = validate.drop(columns=['species'])\n",
    "y_validate = validate.species\n",
    "\n",
    "X_test = test.drop(columns=['species'])\n",
    "y_test = test.species"
   ]
  },
  {
   "cell_type": "markdown",
   "metadata": {},
   "source": [
    "### Train Model\n",
    "\n"
   ]
  },
  {
   "cell_type": "markdown",
   "metadata": {},
   "source": [
    "##### Create Object\n",
    "\n"
   ]
  },
  {
   "cell_type": "markdown",
   "metadata": {},
   "source": [
    "```python\n",
    "# weights = ['uniform', 'distance']\n",
    "\n",
    "knn = KNeighborsClassifier(n_neighbors=5, weights='uniform')"
   ]
  },
  {
   "cell_type": "markdown",
   "metadata": {},
   "source": [
    "##### Fit the model\n",
    "\n"
   ]
  },
  {
   "cell_type": "markdown",
   "metadata": {},
   "source": [
    "```python\n",
    "knn.fit(X_train, y_train)"
   ]
  },
  {
   "cell_type": "markdown",
   "metadata": {},
   "source": [
    "##### Predications\n",
    "\n"
   ]
  },
  {
   "cell_type": "markdown",
   "metadata": {},
   "source": [
    "```python\n",
    "y_pred = knn.predict(X_train)"
   ]
  },
  {
   "cell_type": "markdown",
   "metadata": {},
   "source": [
    "##### Estimate\n",
    "\n"
   ]
  },
  {
   "cell_type": "markdown",
   "metadata": {},
   "source": [
    "```python\n",
    "\n",
    "y_pred_proba = knn.predict_proba(X_train)"
   ]
  },
  {
   "cell_type": "markdown",
   "metadata": {},
   "source": [
    "### Evaluate\n",
    "\n"
   ]
  },
  {
   "cell_type": "markdown",
   "metadata": {},
   "source": [
    "##### Accuracy"
   ]
  },
  {
   "cell_type": "markdown",
   "metadata": {},
   "source": [
    "```python\n",
    "print('Accuracy of KNN classifier on training set: {:.2f}'\n",
    "     .format(knn.score(X_train, y_train)))"
   ]
  },
  {
   "cell_type": "markdown",
   "metadata": {},
   "source": [
    "##### Confusion Matrix\n",
    "\n"
   ]
  },
  {
   "cell_type": "markdown",
   "metadata": {},
   "source": [
    "```python\n",
    "print(confusion_matrix(y_train, y_pred))"
   ]
  },
  {
   "cell_type": "markdown",
   "metadata": {},
   "source": [
    "##### Classification Report\n"
   ]
  },
  {
   "cell_type": "markdown",
   "metadata": {},
   "source": [
    "```python\n",
    "print(classification_report(y_train, y_pred))\n",
    "\n",
    "# first_nearest_neighbor\n",
    "import pandas as pd\n",
    "\n",
    "samples = pd.DataFrame({'a': [5.7, 5.5, 6.3], \n",
    "                        'b': [2.6, 3.5, 2.8], \n",
    "                        'c': [3.5, 1.3, 5.1], \n",
    "                        'd': [1.0, 0.2, 1.5], \n",
    "                        'target': ['versicolor', 'setosa', 'virginica']\n",
    "                       })\n",
    "\n",
    "\n",
    "samples\n",
    "\n",
    "new_obs = pd.DataFrame([[6.3, 2.8, 5.1, 1.4], \n",
    "                       [6.25, 2.77, 5.09, 1.35], \n",
    "                       [5.5, 3.5, 1.29, 0.3]], \n",
    "                        columns = ['a', 'b', 'c', 'd'])\n",
    "\n",
    "new_obs\n",
    "\n",
    "pred_target = pd.DataFrame(['virginica', 'virginica', 'setosa'], columns=['pred_target'])\n",
    "pd.concat([new_obs, pred_target], axis=1)"
   ]
  },
  {
   "cell_type": "markdown",
   "metadata": {},
   "source": [
    "### Validate\n",
    "\n"
   ]
  },
  {
   "cell_type": "markdown",
   "metadata": {},
   "source": [
    "##### Out of Sample Data\n",
    "\n"
   ]
  },
  {
   "cell_type": "markdown",
   "metadata": {},
   "source": [
    "```python\n",
    "print('Accuracy of KNN classifier on test set: {:.2f}'\n",
    "     .format(knn.score(X_validate, y_validate)))"
   ]
  },
  {
   "cell_type": "markdown",
   "metadata": {},
   "source": [
    "### Visualize Model \n",
    "\n"
   ]
  },
  {
   "cell_type": "markdown",
   "metadata": {},
   "source": [
    "```python\n",
    "import matplotlib.pyplot as plt\n",
    "k_range = range(1, 20)\n",
    "scores = []\n",
    "for k in k_range:\n",
    "    knn = KNeighborsClassifier(n_neighbors = k)\n",
    "    knn.fit(X_train, y_train)\n",
    "    scores.append(knn.score(X_test, y_test))\n",
    "plt.figure()\n",
    "plt.xlabel('k')\n",
    "plt.ylabel('accuracy')\n",
    "plt.scatter(k_range, scores)\n",
    "plt.xticks([0,5,10,15,20])\n",
    "plt.show()"
   ]
  },
  {
   "cell_type": "markdown",
   "metadata": {},
   "source": [
    "# ."
   ]
  },
  {
   "cell_type": "markdown",
   "metadata": {},
   "source": []
  }
 ],
 "metadata": {
  "kernelspec": {
   "display_name": "base",
   "language": "python",
   "name": "python3"
  },
  "language_info": {
   "codemirror_mode": {
    "name": "ipython",
    "version": 3
   },
   "file_extension": ".py",
   "mimetype": "text/x-python",
   "name": "python",
   "nbconvert_exporter": "python",
   "pygments_lexer": "ipython3",
   "version": "3.11.3"
  },
  "orig_nbformat": 4
 },
 "nbformat": 4,
 "nbformat_minor": 2
}
