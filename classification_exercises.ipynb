{
 "cells": [
  {
   "cell_type": "markdown",
   "metadata": {},
   "source": [
    "# 1. Exercises (Data Acquisition)"
   ]
  },
  {
   "cell_type": "markdown",
   "metadata": {},
   "source": [
    "### 1 - 3. Set up repo and .gitignore"
   ]
  },
  {
   "cell_type": "markdown",
   "metadata": {},
   "source": [
    "#### 1. Make a new repo called classification-exercises on both GitHub and within your codeup-data-science directory. This will be where you do your work for this module.\n",
    "\n",
    "#### 2. Inside of your local classification-exercises repo, create a file named .gitignore with the following contents:\n",
    "\n",
    "```\n",
    "env.py\n",
    ".DS_Store\n",
    ".ipynb_checkpoints/\n",
    "__pycache__\n",
    "*.csv\n",
    "```\n",
    "\n",
    "#### Add and commit your .gitignore file before moving forward.\n",
    "\n",
    "#### 3. Now that you are 100% sure that your .gitignore file lists env.py, create or copy your env.py file inside of classification-exercises. Running git status should show that git is ignoring this file."
   ]
  },
  {
   "cell_type": "markdown",
   "metadata": {},
   "source": [
    "### 4. In a jupyter notebook, classification_exercises.ipynb, use a python module (pydata or seaborn datasets) containing datasets as a source from the iris data. Create a pandas dataframe, df_iris, from this data."
   ]
  },
  {
   "cell_type": "code",
   "execution_count": 1,
   "metadata": {},
   "outputs": [],
   "source": [
    "import pandas as pd\n",
    "from pydataset import data\n",
    "\n",
    "df_iris = data('iris')"
   ]
  },
  {
   "cell_type": "code",
   "execution_count": 2,
   "metadata": {},
   "outputs": [
    {
     "name": "stdout",
     "output_type": "stream",
     "text": [
      "   Sepal.Length  Sepal.Width  Petal.Length  Petal.Width Species\n",
      "1           5.1          3.5           1.4          0.2  setosa\n",
      "2           4.9          3.0           1.4          0.2  setosa\n",
      "3           4.7          3.2           1.3          0.2  setosa\n"
     ]
    }
   ],
   "source": [
    "# 4a. print the first 3 rows\n",
    "\n",
    "print(df_iris.head(3))"
   ]
  },
  {
   "cell_type": "code",
   "execution_count": 3,
   "metadata": {},
   "outputs": [
    {
     "name": "stdout",
     "output_type": "stream",
     "text": [
      "(150, 5)\n"
     ]
    }
   ],
   "source": [
    "# 4b. print the number of rows and columns (shape)\n",
    "\n",
    "print(df_iris.shape)"
   ]
  },
  {
   "cell_type": "code",
   "execution_count": 4,
   "metadata": {},
   "outputs": [
    {
     "name": "stdout",
     "output_type": "stream",
     "text": [
      "Index(['Sepal.Length', 'Sepal.Width', 'Petal.Length', 'Petal.Width',\n",
      "       'Species'],\n",
      "      dtype='object')\n"
     ]
    }
   ],
   "source": [
    "# 4c. print the column names\n",
    "\n",
    "print(df_iris.columns)"
   ]
  },
  {
   "cell_type": "code",
   "execution_count": 5,
   "metadata": {},
   "outputs": [
    {
     "name": "stdout",
     "output_type": "stream",
     "text": [
      "Sepal.Length    float64\n",
      "Sepal.Width     float64\n",
      "Petal.Length    float64\n",
      "Petal.Width     float64\n",
      "Species          object\n",
      "dtype: object\n"
     ]
    }
   ],
   "source": [
    "# 4d. print the data type of each column\n",
    "\n",
    "print(df_iris.dtypes)"
   ]
  },
  {
   "cell_type": "code",
   "execution_count": 6,
   "metadata": {},
   "outputs": [
    {
     "name": "stdout",
     "output_type": "stream",
     "text": [
      "       Sepal.Length  Sepal.Width  Petal.Length  Petal.Width\n",
      "count    150.000000   150.000000    150.000000   150.000000\n",
      "mean       5.843333     3.057333      3.758000     1.199333\n",
      "std        0.828066     0.435866      1.765298     0.762238\n",
      "min        4.300000     2.000000      1.000000     0.100000\n",
      "25%        5.100000     2.800000      1.600000     0.300000\n",
      "50%        5.800000     3.000000      4.350000     1.300000\n",
      "75%        6.400000     3.300000      5.100000     1.800000\n",
      "max        7.900000     4.400000      6.900000     2.500000\n"
     ]
    }
   ],
   "source": [
    "# 4e. print the summary statistics for each of the numeric variables\n",
    "\n",
    "print(df_iris.describe())"
   ]
  },
  {
   "cell_type": "markdown",
   "metadata": {},
   "source": [
    "### 5. Read the data from this google sheet into a dataframe, df_google."
   ]
  },
  {
   "cell_type": "code",
   "execution_count": 7,
   "metadata": {},
   "outputs": [],
   "source": [
    "url = 'https://docs.google.com/spreadsheets/d/1Uhtml8KY19LILuZsrDtlsHHDC9wuDGUSe8LTEwvdI5g/edit#gid=341089357'\n",
    "\n",
    "csv_export_url = url.replace('/edit#gid=', '/export?format=csv&gid=')\n",
    "\n",
    "df_google = pd.read_csv(csv_export_url)"
   ]
  },
  {
   "cell_type": "code",
   "execution_count": 8,
   "metadata": {},
   "outputs": [
    {
     "name": "stdout",
     "output_type": "stream",
     "text": [
      "   PassengerId  Survived  Pclass  \\\n",
      "0            1         0       3   \n",
      "1            2         1       1   \n",
      "2            3         1       3   \n",
      "\n",
      "                                                  Name     Sex   Age  SibSp  \\\n",
      "0                              Braund, Mr. Owen Harris    male  22.0      1   \n",
      "1  Cumings, Mrs. John Bradley (Florence Briggs Thayer)  female  38.0      1   \n",
      "2                               Heikkinen, Miss. Laina  female  26.0      0   \n",
      "\n",
      "   Parch            Ticket     Fare Cabin Embarked  \n",
      "0      0         A/5 21171   7.2500   NaN        S  \n",
      "1      0          PC 17599  71.2833   C85        C  \n",
      "2      0  STON/O2. 3101282   7.9250   NaN        S  \n"
     ]
    }
   ],
   "source": [
    "# 5a. print the first 3 rows\n",
    "\n",
    "print(df_google.head(3))"
   ]
  },
  {
   "cell_type": "code",
   "execution_count": 9,
   "metadata": {},
   "outputs": [
    {
     "name": "stdout",
     "output_type": "stream",
     "text": [
      "(891, 12)\n"
     ]
    }
   ],
   "source": [
    "# 5b. print the number of rows and columns\n",
    "\n",
    "print(df_google.shape)"
   ]
  },
  {
   "cell_type": "code",
   "execution_count": 10,
   "metadata": {},
   "outputs": [
    {
     "name": "stdout",
     "output_type": "stream",
     "text": [
      "Index(['PassengerId', 'Survived', 'Pclass', 'Name', 'Sex', 'Age', 'SibSp',\n",
      "       'Parch', 'Ticket', 'Fare', 'Cabin', 'Embarked'],\n",
      "      dtype='object')\n"
     ]
    }
   ],
   "source": [
    "#5c. print the column names\n",
    "\n",
    "print(df_google.columns)"
   ]
  },
  {
   "cell_type": "code",
   "execution_count": 11,
   "metadata": {},
   "outputs": [
    {
     "name": "stdout",
     "output_type": "stream",
     "text": [
      "PassengerId      int64\n",
      "Survived         int64\n",
      "Pclass           int64\n",
      "Name            object\n",
      "Sex             object\n",
      "Age            float64\n",
      "SibSp            int64\n",
      "Parch            int64\n",
      "Ticket          object\n",
      "Fare           float64\n",
      "Cabin           object\n",
      "Embarked        object\n",
      "dtype: object\n"
     ]
    }
   ],
   "source": [
    "# 5d. print the data type of each column\n",
    "\n",
    "print(df_google.dtypes)"
   ]
  },
  {
   "cell_type": "code",
   "execution_count": 12,
   "metadata": {},
   "outputs": [
    {
     "name": "stdout",
     "output_type": "stream",
     "text": [
      "<bound method NDFrame.describe of      PassengerId  Survived  Pclass  \\\n",
      "0              1         0       3   \n",
      "1              2         1       1   \n",
      "2              3         1       3   \n",
      "3              4         1       1   \n",
      "4              5         0       3   \n",
      "..           ...       ...     ...   \n",
      "886          887         0       2   \n",
      "887          888         1       1   \n",
      "888          889         0       3   \n",
      "889          890         1       1   \n",
      "890          891         0       3   \n",
      "\n",
      "                                                    Name     Sex   Age  SibSp  \\\n",
      "0                                Braund, Mr. Owen Harris    male  22.0      1   \n",
      "1    Cumings, Mrs. John Bradley (Florence Briggs Thayer)  female  38.0      1   \n",
      "2                                 Heikkinen, Miss. Laina  female  26.0      0   \n",
      "3           Futrelle, Mrs. Jacques Heath (Lily May Peel)  female  35.0      1   \n",
      "4                               Allen, Mr. William Henry    male  35.0      0   \n",
      "..                                                   ...     ...   ...    ...   \n",
      "886                                Montvila, Rev. Juozas    male  27.0      0   \n",
      "887                         Graham, Miss. Margaret Edith  female  19.0      0   \n",
      "888             Johnston, Miss. Catherine Helen \"Carrie\"  female   NaN      1   \n",
      "889                                Behr, Mr. Karl Howell    male  26.0      0   \n",
      "890                                  Dooley, Mr. Patrick    male  32.0      0   \n",
      "\n",
      "     Parch            Ticket     Fare Cabin Embarked  \n",
      "0        0         A/5 21171   7.2500   NaN        S  \n",
      "1        0          PC 17599  71.2833   C85        C  \n",
      "2        0  STON/O2. 3101282   7.9250   NaN        S  \n",
      "3        0            113803  53.1000  C123        S  \n",
      "4        0            373450   8.0500   NaN        S  \n",
      "..     ...               ...      ...   ...      ...  \n",
      "886      0            211536  13.0000   NaN        S  \n",
      "887      0            112053  30.0000   B42        S  \n",
      "888      2        W./C. 6607  23.4500   NaN        S  \n",
      "889      0            111369  30.0000  C148        C  \n",
      "890      0            370376   7.7500   NaN        Q  \n",
      "\n",
      "[891 rows x 12 columns]>\n"
     ]
    }
   ],
   "source": [
    "# 5e. print the summary statistics for each of the numeric variables\n",
    "\n",
    "print(df_google.describe)"
   ]
  },
  {
   "cell_type": "code",
   "execution_count": 13,
   "metadata": {},
   "outputs": [
    {
     "name": "stdout",
     "output_type": "stream",
     "text": [
      "                           Name   Sex  Ticket    Cabin Embarked\n",
      "count                       891   891     891      204      889\n",
      "unique                      891     2     681      147        3\n",
      "top     Braund, Mr. Owen Harris  male  347082  B96 B98        S\n",
      "freq                          1   577       7        4      644\n"
     ]
    }
   ],
   "source": [
    "# 5f. print the unique values for each of your categorical variables\n",
    "\n",
    "print(df_google.describe(include='object'))"
   ]
  },
  {
   "cell_type": "markdown",
   "metadata": {},
   "source": [
    "### 6. Download the previous exercise's file into an excel (File → Download → Microsoft Excel). Read the downloaded file into a dataframe named df_excel."
   ]
  },
  {
   "cell_type": "code",
   "execution_count": 14,
   "metadata": {},
   "outputs": [],
   "source": [
    "df_excel = pd.read_excel('train.xlsx')"
   ]
  },
  {
   "cell_type": "code",
   "execution_count": 15,
   "metadata": {},
   "outputs": [],
   "source": [
    "# 6a. assign the first 100 rows to a new dataframe, df_excel_sample\n",
    "\n",
    "df_excel_sample = df_excel.head(100)"
   ]
  },
  {
   "cell_type": "code",
   "execution_count": 16,
   "metadata": {},
   "outputs": [
    {
     "name": "stdout",
     "output_type": "stream",
     "text": [
      "891\n"
     ]
    }
   ],
   "source": [
    "# 6b. print the number of rows of your original dataframe\n",
    "\n",
    "print(df_excel.shape[0])"
   ]
  },
  {
   "cell_type": "code",
   "execution_count": 17,
   "metadata": {},
   "outputs": [
    {
     "name": "stdout",
     "output_type": "stream",
     "text": [
      "Index(['PassengerId', 'Survived', 'Pclass', 'Name', 'Sex'], dtype='object')\n"
     ]
    }
   ],
   "source": [
    "# 6c. print the first 5 column names\n",
    "\n",
    "print(df_excel.columns[:5])"
   ]
  },
  {
   "cell_type": "code",
   "execution_count": 18,
   "metadata": {},
   "outputs": [
    {
     "name": "stdout",
     "output_type": "stream",
     "text": [
      "Index(['Name', 'Sex', 'Ticket', 'Cabin', 'Embarked'], dtype='object')\n"
     ]
    }
   ],
   "source": [
    "# 6d. print the column names that have a data type of object\n",
    "\n",
    "print(df_excel.select_dtypes(include='object').columns)"
   ]
  },
  {
   "cell_type": "code",
   "execution_count": 19,
   "metadata": {},
   "outputs": [
    {
     "name": "stdout",
     "output_type": "stream",
     "text": [
      "                           Name   Sex  Ticket    Cabin Embarked\n",
      "count                       891   891     891      204      889\n",
      "unique                      891     2     681      147        3\n",
      "top     Braund, Mr. Owen Harris  male  347082  B96 B98        S\n",
      "freq                          1   577       7        4      644\n"
     ]
    }
   ],
   "source": [
    "# 6e. compute the range for each of the numeric variables.\n",
    "\n",
    "print(df_excel.describe(include='object'))"
   ]
  },
  {
   "cell_type": "markdown",
   "metadata": {},
   "source": [
    "### 7. Make a new python module, acquire.py to hold the following data aquisition functions:"
   ]
  },
  {
   "cell_type": "code",
   "execution_count": 20,
   "metadata": {},
   "outputs": [],
   "source": [
    "import acquire as a\n",
    "\n",
    "# Make a function named get_titanic_data that returns the titanic data from the codeup data science database as a pandas data frame. \n",
    "# Obtain your data from the Codeup Data Science Database.\n",
    "titanic = a.get_titanic_data()\n",
    "\n",
    "# Make a function named get_iris_data that returns the data from the iris_db on the codeup data science database as a pandas data frame. \n",
    "# The returned data frame should include the actual name of the species in addition to the species_ids. \n",
    "# Obtain your data from the Codeup Data Science Database.\n",
    "iris = a.get_iris_data()\n",
    "\n",
    "# Make a function named get_telco_data that returns the data from the telco_churn database in SQL. \n",
    "# In your SQL, be sure to join contract_types, internet_service_types, payment_types tables with\n",
    "# the customers table, so that the resulting dataframe contains all the contract, payment, and \n",
    "# internet service options. Obtain your data from the Codeup Data Science Database.\n",
    "telco = a.get_telco_data()\n",
    "\n",
    "# Once you've got your get_titanic_data, get_iris_data, and get_telco_data functions written, \n",
    "# now it's time to add caching to them. To do this, edit the beginning of the function to check \n",
    "# for the local filename of telco.csv, titanic.csv, or iris.csv. If they exist, use the .csv file. \n",
    "# If the file doesn't exist, then produce the SQL and pandas necessary to create a dataframe,\n",
    "# then write the dataframe to a .csv file with the appropriate name."
   ]
  },
  {
   "cell_type": "markdown",
   "metadata": {},
   "source": [
    "# 2. Exercises (Data Preparation)"
   ]
  },
  {
   "cell_type": "markdown",
   "metadata": {},
   "source": [
    "### Directions"
   ]
  },
  {
   "cell_type": "markdown",
   "metadata": {},
   "source": [
    "- The end product of this exercise should be the specified functions in a python script named prepare.py. \n",
    "\n",
    "- Do these in your classification_exercises.ipynb first, then transfer to the prepare.py file.\n",
    "\n",
    "- This work should all be saved in your local classification-exercises repo. Then add, commit, and push your changes."
   ]
  },
  {
   "cell_type": "code",
   "execution_count": 147,
   "metadata": {},
   "outputs": [],
   "source": [
    "from env import db_url\n",
    "import acquire as a\n",
    "import pandas as pd\n",
    "import numpy as np"
   ]
  },
  {
   "cell_type": "markdown",
   "metadata": {},
   "source": [
    "### Using the Iris Data:"
   ]
  },
  {
   "cell_type": "code",
   "execution_count": 148,
   "metadata": {},
   "outputs": [
    {
     "data": {
      "text/html": [
       "<div>\n",
       "<style scoped>\n",
       "    .dataframe tbody tr th:only-of-type {\n",
       "        vertical-align: middle;\n",
       "    }\n",
       "\n",
       "    .dataframe tbody tr th {\n",
       "        vertical-align: top;\n",
       "    }\n",
       "\n",
       "    .dataframe thead th {\n",
       "        text-align: right;\n",
       "    }\n",
       "</style>\n",
       "<table border=\"1\" class=\"dataframe\">\n",
       "  <thead>\n",
       "    <tr style=\"text-align: right;\">\n",
       "      <th></th>\n",
       "      <th>species_name</th>\n",
       "      <th>measurement_id</th>\n",
       "      <th>sepal_length</th>\n",
       "      <th>sepal_width</th>\n",
       "      <th>petal_length</th>\n",
       "      <th>petal_width</th>\n",
       "      <th>species_id</th>\n",
       "    </tr>\n",
       "  </thead>\n",
       "  <tbody>\n",
       "    <tr>\n",
       "      <th>0</th>\n",
       "      <td>setosa</td>\n",
       "      <td>1</td>\n",
       "      <td>5.1</td>\n",
       "      <td>3.5</td>\n",
       "      <td>1.4</td>\n",
       "      <td>0.2</td>\n",
       "      <td>1</td>\n",
       "    </tr>\n",
       "  </tbody>\n",
       "</table>\n",
       "</div>"
      ],
      "text/plain": [
       "  species_name  measurement_id  sepal_length  sepal_width  petal_length  \\\n",
       "0       setosa               1           5.1          3.5           1.4   \n",
       "\n",
       "   petal_width  species_id  \n",
       "0          0.2           1  "
      ]
     },
     "execution_count": 148,
     "metadata": {},
     "output_type": "execute_result"
    }
   ],
   "source": [
    "# 1. Use the function defined in acquire.py to load the iris data.\n",
    "\n",
    "iris = a.get_iris_data()\n",
    "\n",
    "iris.head(1)"
   ]
  },
  {
   "cell_type": "code",
   "execution_count": 149,
   "metadata": {},
   "outputs": [
    {
     "data": {
      "text/html": [
       "<div>\n",
       "<style scoped>\n",
       "    .dataframe tbody tr th:only-of-type {\n",
       "        vertical-align: middle;\n",
       "    }\n",
       "\n",
       "    .dataframe tbody tr th {\n",
       "        vertical-align: top;\n",
       "    }\n",
       "\n",
       "    .dataframe thead th {\n",
       "        text-align: right;\n",
       "    }\n",
       "</style>\n",
       "<table border=\"1\" class=\"dataframe\">\n",
       "  <thead>\n",
       "    <tr style=\"text-align: right;\">\n",
       "      <th></th>\n",
       "      <th>species_name</th>\n",
       "      <th>sepal_length</th>\n",
       "      <th>sepal_width</th>\n",
       "      <th>petal_length</th>\n",
       "      <th>petal_width</th>\n",
       "    </tr>\n",
       "  </thead>\n",
       "  <tbody>\n",
       "    <tr>\n",
       "      <th>0</th>\n",
       "      <td>setosa</td>\n",
       "      <td>5.1</td>\n",
       "      <td>3.5</td>\n",
       "      <td>1.4</td>\n",
       "      <td>0.2</td>\n",
       "    </tr>\n",
       "  </tbody>\n",
       "</table>\n",
       "</div>"
      ],
      "text/plain": [
       "  species_name  sepal_length  sepal_width  petal_length  petal_width\n",
       "0       setosa           5.1          3.5           1.4          0.2"
      ]
     },
     "execution_count": 149,
     "metadata": {},
     "output_type": "execute_result"
    }
   ],
   "source": [
    "# 2. Drop the species_id and measurement_id columns.\n",
    "\n",
    "iris = iris.drop(columns=['species_id', 'measurement_id'])\n",
    "\n",
    "iris.head(1)"
   ]
  },
  {
   "cell_type": "code",
   "execution_count": 150,
   "metadata": {},
   "outputs": [
    {
     "data": {
      "text/html": [
       "<div>\n",
       "<style scoped>\n",
       "    .dataframe tbody tr th:only-of-type {\n",
       "        vertical-align: middle;\n",
       "    }\n",
       "\n",
       "    .dataframe tbody tr th {\n",
       "        vertical-align: top;\n",
       "    }\n",
       "\n",
       "    .dataframe thead th {\n",
       "        text-align: right;\n",
       "    }\n",
       "</style>\n",
       "<table border=\"1\" class=\"dataframe\">\n",
       "  <thead>\n",
       "    <tr style=\"text-align: right;\">\n",
       "      <th></th>\n",
       "      <th>species</th>\n",
       "      <th>sepal_length</th>\n",
       "      <th>sepal_width</th>\n",
       "      <th>petal_length</th>\n",
       "      <th>petal_width</th>\n",
       "    </tr>\n",
       "  </thead>\n",
       "  <tbody>\n",
       "    <tr>\n",
       "      <th>0</th>\n",
       "      <td>setosa</td>\n",
       "      <td>5.1</td>\n",
       "      <td>3.5</td>\n",
       "      <td>1.4</td>\n",
       "      <td>0.2</td>\n",
       "    </tr>\n",
       "  </tbody>\n",
       "</table>\n",
       "</div>"
      ],
      "text/plain": [
       "  species  sepal_length  sepal_width  petal_length  petal_width\n",
       "0  setosa           5.1          3.5           1.4          0.2"
      ]
     },
     "execution_count": 150,
     "metadata": {},
     "output_type": "execute_result"
    }
   ],
   "source": [
    "# 3. Rename the species_name column to just species.\n",
    "\n",
    "iris = iris.rename(columns={'species_name': 'species'})\n",
    "\n",
    "iris.head(1)"
   ]
  },
  {
   "cell_type": "code",
   "execution_count": 151,
   "metadata": {},
   "outputs": [],
   "source": [
    "# 4. Create dummy variables of the species name and concatenate onto the iris dataframe.\n",
    "# (This is for practice, we don't always have to encode the target, but if we used species as a feature, we would need to encode it).\n",
    "\n",
    "iris_encoded = pd.get_dummies(iris['species'], prefix='species', dtype='int')\n",
    "\n",
    "iris = pd.concat([iris, iris_encoded], axis=1)"
   ]
  },
  {
   "cell_type": "code",
   "execution_count": 152,
   "metadata": {},
   "outputs": [],
   "source": [
    "# 5. Create a function named prep_iris that accepts the untransformed iris data, and returns the data with the transformations above applied.\n",
    "\n",
    "def prep_iris(iris):\n",
    "    iris = iris.drop(columns=['species_id', 'measurement_id'])\n",
    "    iris = iris.rename(columns={'species_name': 'species'})\n",
    "    iris_encoded = pd.get_dummies(iris['species'], prefix='species', dtype='int')\n",
    "    iris = pd.concat([iris, iris_encoded], axis=1)\n",
    "    return iris"
   ]
  },
  {
   "cell_type": "markdown",
   "metadata": {},
   "source": [
    "### Using the Titanic dataset:"
   ]
  },
  {
   "cell_type": "code",
   "execution_count": 153,
   "metadata": {},
   "outputs": [
    {
     "data": {
      "text/plain": [
       "(891, 13)"
      ]
     },
     "execution_count": 153,
     "metadata": {},
     "output_type": "execute_result"
    }
   ],
   "source": [
    "# 1. Use the function defined in acquire.py to load the Titanic data.\n",
    "\n",
    "titanic = a.get_titanic_data()\n",
    "\n",
    "titanic.shape"
   ]
  },
  {
   "cell_type": "code",
   "execution_count": 154,
   "metadata": {},
   "outputs": [
    {
     "data": {
      "text/plain": [
       "(891, 9)"
      ]
     },
     "execution_count": 154,
     "metadata": {},
     "output_type": "execute_result"
    }
   ],
   "source": [
    "# 2. Drop any unnecessary, unhelpful, or duplicated columns.\n",
    "\n",
    "# Drop duplicates, if any\n",
    "titanic = titanic.drop_duplicates()\n",
    "\n",
    "# Drop columns with too many missing values for now and reassign; check the shape of my data.\n",
    "titanic = titanic.drop(columns=['deck', 'embarked', 'class', 'age'])\n",
    "\n",
    "# Run .fillna() on the embark town since it is a majority\n",
    "titanic['embark_town'] = titanic['embark_town'].fillna(value='Southampton')\n",
    "\n",
    "titanic.shape"
   ]
  },
  {
   "cell_type": "code",
   "execution_count": 155,
   "metadata": {},
   "outputs": [
    {
     "data": {
      "text/html": [
       "<div>\n",
       "<style scoped>\n",
       "    .dataframe tbody tr th:only-of-type {\n",
       "        vertical-align: middle;\n",
       "    }\n",
       "\n",
       "    .dataframe tbody tr th {\n",
       "        vertical-align: top;\n",
       "    }\n",
       "\n",
       "    .dataframe thead th {\n",
       "        text-align: right;\n",
       "    }\n",
       "</style>\n",
       "<table border=\"1\" class=\"dataframe\">\n",
       "  <thead>\n",
       "    <tr style=\"text-align: right;\">\n",
       "      <th></th>\n",
       "      <th>passenger_id</th>\n",
       "      <th>survived</th>\n",
       "      <th>pclass</th>\n",
       "      <th>sex</th>\n",
       "      <th>sibsp</th>\n",
       "      <th>parch</th>\n",
       "      <th>fare</th>\n",
       "      <th>embark_town</th>\n",
       "      <th>alone</th>\n",
       "      <th>sex_male</th>\n",
       "      <th>embark_town_Queenstown</th>\n",
       "      <th>embark_town_Southampton</th>\n",
       "    </tr>\n",
       "  </thead>\n",
       "  <tbody>\n",
       "    <tr>\n",
       "      <th>0</th>\n",
       "      <td>0</td>\n",
       "      <td>0</td>\n",
       "      <td>3</td>\n",
       "      <td>male</td>\n",
       "      <td>1</td>\n",
       "      <td>0</td>\n",
       "      <td>7.25</td>\n",
       "      <td>Southampton</td>\n",
       "      <td>0</td>\n",
       "      <td>1</td>\n",
       "      <td>0</td>\n",
       "      <td>1</td>\n",
       "    </tr>\n",
       "  </tbody>\n",
       "</table>\n",
       "</div>"
      ],
      "text/plain": [
       "   passenger_id  survived  pclass   sex  sibsp  parch  fare  embark_town  \\\n",
       "0             0         0       3  male      1      0  7.25  Southampton   \n",
       "\n",
       "   alone  sex_male  embark_town_Queenstown  embark_town_Southampton  \n",
       "0      0         1                       0                        1  "
      ]
     },
     "execution_count": 155,
     "metadata": {},
     "output_type": "execute_result"
    }
   ],
   "source": [
    "# 3. Encode the categorical columns. Create dummy variables of the categorical columns and concatenate them onto the dataframe.\n",
    "\n",
    "dummy_df = pd.get_dummies(titanic[['sex','embark_town']], dummy_na=False, drop_first=True, dtype='int')\n",
    "\n",
    "titanic = pd.concat([titanic, dummy_df], axis=1)\n",
    "\n",
    "titanic.head(1)"
   ]
  },
  {
   "cell_type": "code",
   "execution_count": 156,
   "metadata": {},
   "outputs": [],
   "source": [
    "# 4. Create a function named prep_titanic that accepts the raw titanic data, and returns the data with the transformations above applied.\n",
    "\n",
    "def prep_titanic(df):\n",
    "    '''\n",
    "    This function will drop any duplicate observations, \n",
    "    drop ['deck', 'embarked', 'class', 'age'], fill missing embark_town with 'Southampton'\n",
    "    and create dummy vars from sex and embark_town. \n",
    "    '''\n",
    "    df = df.drop_duplicates()\n",
    "    df = df.drop(columns=['deck', 'embarked', 'class', 'age'])\n",
    "    df['embark_town'] = df.embark_town.fillna(value='Southampton')\n",
    "    dummy_df = pd.get_dummies(df[['sex', 'embark_town']], drop_first=True)\n",
    "    df = pd.concat([df, dummy_df], axis=1)\n",
    "    return df"
   ]
  },
  {
   "cell_type": "markdown",
   "metadata": {},
   "source": [
    "### Using the Telco dataset:"
   ]
  },
  {
   "cell_type": "code",
   "execution_count": 157,
   "metadata": {},
   "outputs": [
    {
     "data": {
      "text/plain": [
       "(7043, 27)"
      ]
     },
     "execution_count": 157,
     "metadata": {},
     "output_type": "execute_result"
    }
   ],
   "source": [
    "# 1. Use the function defined in acquire.py to load the Telco data.\n",
    "\n",
    "telco = a.get_telco_data()\n",
    "\n",
    "telco.shape"
   ]
  },
  {
   "cell_type": "code",
   "execution_count": 158,
   "metadata": {},
   "outputs": [
    {
     "name": "stdout",
     "output_type": "stream",
     "text": [
      "<class 'pandas.core.frame.DataFrame'>\n",
      "RangeIndex: 7043 entries, 0 to 7042\n",
      "Data columns (total 27 columns):\n",
      " #   Column                    Non-Null Count  Dtype  \n",
      "---  ------                    --------------  -----  \n",
      " 0   customer_id               7043 non-null   object \n",
      " 1   gender                    7043 non-null   object \n",
      " 2   senior_citizen            7043 non-null   int64  \n",
      " 3   partner                   7043 non-null   object \n",
      " 4   dependents                7043 non-null   object \n",
      " 5   tenure                    7043 non-null   int64  \n",
      " 6   phone_service             7043 non-null   object \n",
      " 7   multiple_lines            7043 non-null   object \n",
      " 8   internet_service_type_id  7043 non-null   int64  \n",
      " 9   online_security           7043 non-null   object \n",
      " 10  online_backup             7043 non-null   object \n",
      " 11  device_protection         7043 non-null   object \n",
      " 12  tech_support              7043 non-null   object \n",
      " 13  streaming_tv              7043 non-null   object \n",
      " 14  streaming_movies          7043 non-null   object \n",
      " 15  contract_type_id          7043 non-null   int64  \n",
      " 16  paperless_billing         7043 non-null   object \n",
      " 17  payment_type_id           7043 non-null   int64  \n",
      " 18  monthly_charges           7043 non-null   float64\n",
      " 19  total_charges             7043 non-null   object \n",
      " 20  churn                     7043 non-null   object \n",
      " 21  contract_type_id          7043 non-null   int64  \n",
      " 22  contract_type             7043 non-null   object \n",
      " 23  internet_service_type_id  7043 non-null   int64  \n",
      " 24  internet_service_type     7043 non-null   object \n",
      " 25  payment_type_id           7043 non-null   int64  \n",
      " 26  payment_type              7043 non-null   object \n",
      "dtypes: float64(1), int64(8), object(18)\n",
      "memory usage: 1.5+ MB\n"
     ]
    }
   ],
   "source": [
    "telco.info()"
   ]
  },
  {
   "cell_type": "code",
   "execution_count": 159,
   "metadata": {},
   "outputs": [],
   "source": [
    "# 2. Drop any unnecessary, unhelpful, or duplicated columns. This could mean dropping foreign key columns but keeping the corresponding string values, for example.\n",
    "\n",
    "# Drop duplicates, same size so no duplicates\n",
    "telco = telco.drop_duplicates()\n",
    "\n",
    "# transform the column total_charges into a numeric data type\n",
    "telco['total_charges'] = pd.to_numeric(telco['total_charges'], errors='coerce')\n",
    "\n",
    "# Fill nulls with 0, because they have no tenure\n",
    "telco['total_charges'] = telco['total_charges'].fillna(0)"
   ]
  },
  {
   "cell_type": "code",
   "execution_count": 160,
   "metadata": {},
   "outputs": [
    {
     "data": {
      "text/html": [
       "<div>\n",
       "<style scoped>\n",
       "    .dataframe tbody tr th:only-of-type {\n",
       "        vertical-align: middle;\n",
       "    }\n",
       "\n",
       "    .dataframe tbody tr th {\n",
       "        vertical-align: top;\n",
       "    }\n",
       "\n",
       "    .dataframe thead th {\n",
       "        text-align: right;\n",
       "    }\n",
       "</style>\n",
       "<table border=\"1\" class=\"dataframe\">\n",
       "  <thead>\n",
       "    <tr style=\"text-align: right;\">\n",
       "      <th></th>\n",
       "      <th>customer_id</th>\n",
       "      <th>gender</th>\n",
       "      <th>senior_citizen</th>\n",
       "      <th>married</th>\n",
       "      <th>kids</th>\n",
       "      <th>tenure</th>\n",
       "      <th>phone_service</th>\n",
       "      <th>multiple_lines</th>\n",
       "      <th>internet_service_type_id</th>\n",
       "      <th>online_security</th>\n",
       "      <th>...</th>\n",
       "      <th>payment_type_id</th>\n",
       "      <th>monthly_charges</th>\n",
       "      <th>total_charges</th>\n",
       "      <th>churn</th>\n",
       "      <th>contract_type_id</th>\n",
       "      <th>contract_type</th>\n",
       "      <th>internet_service_type_id</th>\n",
       "      <th>internet_service_type</th>\n",
       "      <th>payment_type_id</th>\n",
       "      <th>payment_type</th>\n",
       "    </tr>\n",
       "  </thead>\n",
       "  <tbody>\n",
       "    <tr>\n",
       "      <th>0</th>\n",
       "      <td>0002-ORFBO</td>\n",
       "      <td>Female</td>\n",
       "      <td>0</td>\n",
       "      <td>Yes</td>\n",
       "      <td>Yes</td>\n",
       "      <td>9</td>\n",
       "      <td>Yes</td>\n",
       "      <td>No</td>\n",
       "      <td>1</td>\n",
       "      <td>No</td>\n",
       "      <td>...</td>\n",
       "      <td>2</td>\n",
       "      <td>65.6</td>\n",
       "      <td>593.3</td>\n",
       "      <td>No</td>\n",
       "      <td>2</td>\n",
       "      <td>One year</td>\n",
       "      <td>1</td>\n",
       "      <td>DSL</td>\n",
       "      <td>2</td>\n",
       "      <td>Mailed check</td>\n",
       "    </tr>\n",
       "  </tbody>\n",
       "</table>\n",
       "<p>1 rows × 27 columns</p>\n",
       "</div>"
      ],
      "text/plain": [
       "  customer_id  gender  senior_citizen married kids  tenure phone_service  \\\n",
       "0  0002-ORFBO  Female               0     Yes  Yes       9           Yes   \n",
       "\n",
       "  multiple_lines internet_service_type_id online_security  ...  \\\n",
       "0             No                        1              No  ...   \n",
       "\n",
       "   payment_type_id monthly_charges total_charges churn contract_type_id  \\\n",
       "0                2            65.6         593.3    No                2   \n",
       "\n",
       "   contract_type internet_service_type_id  internet_service_type  \\\n",
       "0       One year                        1                    DSL   \n",
       "\n",
       "   payment_type_id  payment_type  \n",
       "0                2  Mailed check  \n",
       "\n",
       "[1 rows x 27 columns]"
      ]
     },
     "execution_count": 160,
     "metadata": {},
     "output_type": "execute_result"
    }
   ],
   "source": [
    "# Rename some columns to be more logical\n",
    "telco = telco.rename(columns={'partner': 'married', 'dependents': 'kids'})\n",
    "\n",
    "telco.head(1)"
   ]
  },
  {
   "cell_type": "code",
   "execution_count": 161,
   "metadata": {},
   "outputs": [],
   "source": [
    "# Replace all 'Yes' in the telco to 1 and all the 'No' in the telco to 0\n",
    "telco = telco.replace({'Yes': 1, 'No': 0})"
   ]
  },
  {
   "cell_type": "code",
   "execution_count": 162,
   "metadata": {},
   "outputs": [],
   "source": [
    "# Change gender to is_male\n",
    "telco['is_male'] =telco['gender'].apply(lambda x: 1 if x == 'Male' else 0)\n",
    "telco.drop(columns='gender', inplace=True)"
   ]
  },
  {
   "cell_type": "code",
   "execution_count": 163,
   "metadata": {},
   "outputs": [],
   "source": [
    "# Drop useless columns\n",
    "\n",
    "garbage_columns = ['internet_service_type_id', 'payment_type_id', 'contract_type_id']\n",
    "telco = telco.drop(columns=garbage_columns)"
   ]
  },
  {
   "cell_type": "code",
   "execution_count": 164,
   "metadata": {},
   "outputs": [],
   "source": [
    "# 3. Encode the categorical columns. Create dummy variables of the categorical columns and concatenate them onto the dataframe.\n",
    "\n",
    "categorical = ['contract_type', 'internet_service_type', 'payment_type']\n",
    "\n",
    "dummy_df = pd.get_dummies(telco[categorical], dummy_na=False, drop_first=True, dtype='int')"
   ]
  },
  {
   "cell_type": "code",
   "execution_count": 165,
   "metadata": {},
   "outputs": [],
   "source": [
    "telco = pd.concat([telco, dummy_df], axis=1)"
   ]
  },
  {
   "cell_type": "code",
   "execution_count": 166,
   "metadata": {},
   "outputs": [
    {
     "data": {
      "text/html": [
       "<div>\n",
       "<style scoped>\n",
       "    .dataframe tbody tr th:only-of-type {\n",
       "        vertical-align: middle;\n",
       "    }\n",
       "\n",
       "    .dataframe tbody tr th {\n",
       "        vertical-align: top;\n",
       "    }\n",
       "\n",
       "    .dataframe thead th {\n",
       "        text-align: right;\n",
       "    }\n",
       "</style>\n",
       "<table border=\"1\" class=\"dataframe\">\n",
       "  <thead>\n",
       "    <tr style=\"text-align: right;\">\n",
       "      <th></th>\n",
       "      <th>customer_id</th>\n",
       "      <th>senior_citizen</th>\n",
       "      <th>married</th>\n",
       "      <th>kids</th>\n",
       "      <th>tenure</th>\n",
       "      <th>phone_service</th>\n",
       "      <th>multiple_lines</th>\n",
       "      <th>online_security</th>\n",
       "      <th>online_backup</th>\n",
       "      <th>device_protection</th>\n",
       "      <th>...</th>\n",
       "      <th>internet_service_type</th>\n",
       "      <th>payment_type</th>\n",
       "      <th>is_male</th>\n",
       "      <th>contract_type_One year</th>\n",
       "      <th>contract_type_Two year</th>\n",
       "      <th>internet_service_type_Fiber optic</th>\n",
       "      <th>internet_service_type_None</th>\n",
       "      <th>payment_type_Credit card (automatic)</th>\n",
       "      <th>payment_type_Electronic check</th>\n",
       "      <th>payment_type_Mailed check</th>\n",
       "    </tr>\n",
       "  </thead>\n",
       "  <tbody>\n",
       "    <tr>\n",
       "      <th>0</th>\n",
       "      <td>0002-ORFBO</td>\n",
       "      <td>0</td>\n",
       "      <td>1</td>\n",
       "      <td>1</td>\n",
       "      <td>9</td>\n",
       "      <td>1</td>\n",
       "      <td>0</td>\n",
       "      <td>0</td>\n",
       "      <td>1</td>\n",
       "      <td>0</td>\n",
       "      <td>...</td>\n",
       "      <td>DSL</td>\n",
       "      <td>Mailed check</td>\n",
       "      <td>0</td>\n",
       "      <td>1</td>\n",
       "      <td>0</td>\n",
       "      <td>0</td>\n",
       "      <td>0</td>\n",
       "      <td>0</td>\n",
       "      <td>0</td>\n",
       "      <td>1</td>\n",
       "    </tr>\n",
       "  </tbody>\n",
       "</table>\n",
       "<p>1 rows × 28 columns</p>\n",
       "</div>"
      ],
      "text/plain": [
       "  customer_id  senior_citizen  married  kids  tenure  phone_service  \\\n",
       "0  0002-ORFBO               0        1     1       9              1   \n",
       "\n",
       "  multiple_lines online_security online_backup device_protection  ...  \\\n",
       "0              0               0             1                 0  ...   \n",
       "\n",
       "  internet_service_type  payment_type is_male  contract_type_One year  \\\n",
       "0                   DSL  Mailed check       0                       1   \n",
       "\n",
       "   contract_type_Two year  internet_service_type_Fiber optic  \\\n",
       "0                       0                                  0   \n",
       "\n",
       "   internet_service_type_None payment_type_Credit card (automatic)  \\\n",
       "0                           0                                    0   \n",
       "\n",
       "  payment_type_Electronic check payment_type_Mailed check  \n",
       "0                             0                         1  \n",
       "\n",
       "[1 rows x 28 columns]"
      ]
     },
     "execution_count": 166,
     "metadata": {},
     "output_type": "execute_result"
    }
   ],
   "source": [
    "telco.head(1)"
   ]
  },
  {
   "cell_type": "code",
   "execution_count": 167,
   "metadata": {},
   "outputs": [],
   "source": [
    "# 4. Create a function named prep_telco that accepts the raw telco data, and returns the data with the transformations above applied.\n",
    "\n",
    "def prep_telco(df):\n",
    "    \"\"\"\n",
    "    This function accepts the raw telco data and applies the following transformations:\n",
    "    - Drops duplicates\n",
    "    - Converts the 'total_charges' column to a numeric data type\n",
    "    - Fills null values in 'total_charges' with 0\n",
    "    - Renames columns 'partner' to 'married' and 'dependents' to 'kids'\n",
    "    - Replaces all 'Yes' with 1 and 'No' with 0 in the dataframe\n",
    "    - Changes 'gender' to 'is_male' and drops the 'gender' column\n",
    "    - Drops columns 'internet_service_type_id', 'payment_type_id', and 'contract_type_id'\n",
    "    - Creates dummy variables for categorical columns 'contract_type', 'internet_service_type', and 'payment_type'\n",
    "    \n",
    "    Parameters:\n",
    "    -----------\n",
    "    df : pandas.DataFrame\n",
    "        The raw telco data\n",
    "        \n",
    "    Returns:\n",
    "    --------\n",
    "    pandas.DataFrame\n",
    "        The transformed telco data\n",
    "    \"\"\"\n",
    "    # Drop duplicates, same size so no duplicates\n",
    "    df = df.drop_duplicates()\n",
    "\n",
    "    # transform the column total_charges into a numeric data type\n",
    "    df['total_charges'] = pd.to_numeric(df['total_charges'], errors='coerce')\n",
    "\n",
    "    # Fill nulls with 0, because they have no tenure\n",
    "    df['total_charges'] = df['total_charges'].fillna(0)\n",
    "    \n",
    "    # Rename some columns to be more logical\n",
    "    df = df.rename(columns={'partner': 'married', 'dependents': 'kids'})\n",
    "    \n",
    "    # Replace all Yes with 1 and No with 0 in the df\n",
    "    df = df.replace({'Yes': 1, 'No': 0})\n",
    "    \n",
    "    # Change gender to is_male, and drop the gender\n",
    "    df['is_male'] = df['gender'].apply(lambda x: 1 if x == 'Male' else 0)\n",
    "    df.drop(columns='gender', inplace=True)\n",
    "    \n",
    "    # Drop useless columns\n",
    "    garbage_columns = ['internet_service_type_id', 'payment_type_id', 'contract_type_id']\n",
    "    df = df.drop(columns=garbage_columns)\n",
    "    \n",
    "    # Define your categorical columns and make a dummy_df to concat to the main df\n",
    "    categorical = ['contract_type', 'internet_service_type', 'payment_type']\n",
    "    dummy_df = pd.get_dummies(df[categorical], dummy_na=False, drop_first=True, dtype='int')\n",
    "    df = pd.concat([df, dummy_df], axis=1)\n",
    "    \n",
    "    return df"
   ]
  },
  {
   "cell_type": "markdown",
   "metadata": {},
   "source": [
    "### Split Data"
   ]
  },
  {
   "cell_type": "code",
   "execution_count": 180,
   "metadata": {},
   "outputs": [],
   "source": [
    "# 1. Write a function to split your data into train, test and validate datasets. Add this function to prepare.py.\n",
    "\n",
    "from sklearn.model_selection import train_test_split\n",
    "\n",
    "def split_data(df, stratify=None):\n",
    "    '''\n",
    "    take in a DataFrame and return train, validate, and test DataFrames; stratify on a specified variable.\n",
    "    return train, validate, test DataFrames.\n",
    "    '''\n",
    "    train_validate, test = train_test_split(df, test_size=.2, random_state=123, stratify=df[stratify])\n",
    "    train, validate = train_test_split(train_validate, \n",
    "                                       test_size=.3, \n",
    "                                       random_state=123, \n",
    "                                       stratify=train_validate[stratify])\n",
    "    print(f'Train: {train/df}')\n",
    "    print(f'Validate: {validate/df}')\n",
    "    print(f'Test: {test/df}')\n",
    "    \n",
    "    return train, validate, test"
   ]
  },
  {
   "cell_type": "code",
   "execution_count": 182,
   "metadata": {},
   "outputs": [
    {
     "name": "stdout",
     "output_type": "stream",
     "text": [
      "Train: 0.6\n",
      "Validate: 0.2\n",
      "Test: 0.2\n"
     ]
    },
    {
     "data": {
      "text/plain": [
       "(        species  sepal_length  sepal_width  petal_length  petal_width  \\\n",
       " 70   versicolor           5.9          3.2           4.8          1.8   \n",
       " 123   virginica           6.3          2.7           4.9          1.8   \n",
       " 87   versicolor           6.3          2.3           4.4          1.3   \n",
       " 3        setosa           4.6          3.1           1.5          0.2   \n",
       " 15       setosa           5.7          4.4           1.5          0.4   \n",
       " 53   versicolor           5.5          2.3           4.0          1.3   \n",
       " 20       setosa           5.4          3.4           1.7          0.2   \n",
       " 50   versicolor           7.0          3.2           4.7          1.4   \n",
       " 54   versicolor           6.5          2.8           4.6          1.5   \n",
       " 52   versicolor           6.9          3.1           4.9          1.5   \n",
       " 81   versicolor           5.5          2.4           3.7          1.0   \n",
       " 88   versicolor           5.6          3.0           4.1          1.3   \n",
       " 145   virginica           6.7          3.0           5.2          2.3   \n",
       " 130   virginica           7.4          2.8           6.1          1.9   \n",
       " 149   virginica           5.9          3.0           5.1          1.8   \n",
       " 85   versicolor           6.0          3.4           4.5          1.6   \n",
       " 6        setosa           4.6          3.4           1.4          0.3   \n",
       " 31       setosa           5.4          3.4           1.5          0.4   \n",
       " 4        setosa           5.0          3.6           1.4          0.2   \n",
       " 18       setosa           5.7          3.8           1.7          0.3   \n",
       " 92   versicolor           5.8          2.6           4.0          1.2   \n",
       " 74   versicolor           6.4          2.9           4.3          1.3   \n",
       " 139   virginica           6.9          3.1           5.4          2.1   \n",
       " 125   virginica           7.2          3.2           6.0          1.8   \n",
       " 133   virginica           6.3          2.8           5.1          1.5   \n",
       " 100   virginica           6.3          3.3           6.0          2.5   \n",
       " 84   versicolor           5.4          3.0           4.5          1.5   \n",
       " 36       setosa           5.5          3.5           1.3          0.2   \n",
       " 41       setosa           4.5          2.3           1.3          0.3   \n",
       " 91   versicolor           6.1          3.0           4.6          1.4   \n",
       " 108   virginica           6.7          2.5           5.8          1.8   \n",
       " 89   versicolor           5.5          2.5           4.0          1.3   \n",
       " 23       setosa           5.1          3.3           1.7          0.5   \n",
       " 35       setosa           5.0          3.2           1.2          0.2   \n",
       " 137   virginica           6.4          3.1           5.5          1.8   \n",
       " 129   virginica           7.2          3.0           5.8          1.6   \n",
       " 1        setosa           4.9          3.0           1.4          0.2   \n",
       " 16       setosa           5.4          3.9           1.3          0.4   \n",
       " 55   versicolor           5.7          2.8           4.5          1.3   \n",
       " 67   versicolor           5.8          2.7           4.1          1.0   \n",
       " 32       setosa           5.2          4.1           1.5          0.1   \n",
       " 94   versicolor           5.6          2.7           4.2          1.3   \n",
       " 48       setosa           5.3          3.7           1.5          0.2   \n",
       " 25       setosa           5.0          3.0           1.6          0.2   \n",
       " 12       setosa           4.8          3.0           1.4          0.1   \n",
       " 95   versicolor           5.7          3.0           4.2          1.2   \n",
       " 46       setosa           5.1          3.8           1.6          0.2   \n",
       " 43       setosa           5.0          3.5           1.6          0.6   \n",
       " 69   versicolor           5.6          2.5           3.9          1.1   \n",
       " 119   virginica           6.0          2.2           5.0          1.5   \n",
       " 107   virginica           7.3          2.9           6.3          1.8   \n",
       " 140   virginica           6.7          3.1           5.6          2.4   \n",
       " 114   virginica           5.8          2.8           5.1          2.4   \n",
       " 104   virginica           6.5          3.0           5.8          2.2   \n",
       " 61   versicolor           5.9          3.0           4.2          1.5   \n",
       " 26       setosa           5.0          3.4           1.6          0.4   \n",
       " 82   versicolor           5.8          2.7           3.9          1.2   \n",
       " 8        setosa           4.4          2.9           1.4          0.2   \n",
       " 24       setosa           4.8          3.4           1.9          0.2   \n",
       " 51   versicolor           6.4          3.2           4.5          1.5   \n",
       " 115   virginica           6.4          3.2           5.3          2.3   \n",
       " 132   virginica           6.4          2.8           5.6          2.2   \n",
       " 126   virginica           6.2          2.8           4.8          1.8   \n",
       " 128   virginica           6.4          2.8           5.6          2.1   \n",
       " 14       setosa           5.8          4.0           1.2          0.2   \n",
       " 40       setosa           5.0          3.5           1.3          0.3   \n",
       " 59   versicolor           5.2          2.7           3.9          1.4   \n",
       " 109   virginica           7.2          3.6           6.1          2.5   \n",
       " 57   versicolor           4.9          2.4           3.3          1.0   \n",
       " 79   versicolor           5.7          2.6           3.5          1.0   \n",
       " 103   virginica           6.3          2.9           5.6          1.8   \n",
       " 9        setosa           4.9          3.1           1.5          0.1   \n",
       " 7        setosa           5.0          3.4           1.5          0.2   \n",
       " 142   virginica           5.8          2.7           5.1          1.9   \n",
       " 112   virginica           6.8          3.0           5.5          2.1   \n",
       " 73   versicolor           6.1          2.8           4.7          1.2   \n",
       " 83   versicolor           6.0          2.7           5.1          1.6   \n",
       " 111   virginica           6.4          2.7           5.3          1.9   \n",
       " 120   virginica           6.9          3.2           5.7          2.3   \n",
       " 147   virginica           6.5          3.0           5.2          2.0   \n",
       " 131   virginica           7.9          3.8           6.4          2.0   \n",
       " 5        setosa           5.4          3.9           1.7          0.4   \n",
       " 58   versicolor           6.6          2.9           4.6          1.3   \n",
       " 118   virginica           7.7          2.6           6.9          2.3   \n",
       " 141   virginica           6.9          3.1           5.1          2.3   \n",
       " 11       setosa           4.8          3.4           1.6          0.2   \n",
       " 29       setosa           4.7          3.2           1.6          0.2   \n",
       " 96   versicolor           5.7          2.9           4.2          1.3   \n",
       " 44       setosa           5.1          3.8           1.9          0.4   \n",
       " 97   versicolor           6.2          2.9           4.3          1.3   \n",
       " \n",
       "      species_setosa  species_versicolor  species_virginica  \n",
       " 70                0                   1                  0  \n",
       " 123               0                   0                  1  \n",
       " 87                0                   1                  0  \n",
       " 3                 1                   0                  0  \n",
       " 15                1                   0                  0  \n",
       " 53                0                   1                  0  \n",
       " 20                1                   0                  0  \n",
       " 50                0                   1                  0  \n",
       " 54                0                   1                  0  \n",
       " 52                0                   1                  0  \n",
       " 81                0                   1                  0  \n",
       " 88                0                   1                  0  \n",
       " 145               0                   0                  1  \n",
       " 130               0                   0                  1  \n",
       " 149               0                   0                  1  \n",
       " 85                0                   1                  0  \n",
       " 6                 1                   0                  0  \n",
       " 31                1                   0                  0  \n",
       " 4                 1                   0                  0  \n",
       " 18                1                   0                  0  \n",
       " 92                0                   1                  0  \n",
       " 74                0                   1                  0  \n",
       " 139               0                   0                  1  \n",
       " 125               0                   0                  1  \n",
       " 133               0                   0                  1  \n",
       " 100               0                   0                  1  \n",
       " 84                0                   1                  0  \n",
       " 36                1                   0                  0  \n",
       " 41                1                   0                  0  \n",
       " 91                0                   1                  0  \n",
       " 108               0                   0                  1  \n",
       " 89                0                   1                  0  \n",
       " 23                1                   0                  0  \n",
       " 35                1                   0                  0  \n",
       " 137               0                   0                  1  \n",
       " 129               0                   0                  1  \n",
       " 1                 1                   0                  0  \n",
       " 16                1                   0                  0  \n",
       " 55                0                   1                  0  \n",
       " 67                0                   1                  0  \n",
       " 32                1                   0                  0  \n",
       " 94                0                   1                  0  \n",
       " 48                1                   0                  0  \n",
       " 25                1                   0                  0  \n",
       " 12                1                   0                  0  \n",
       " 95                0                   1                  0  \n",
       " 46                1                   0                  0  \n",
       " 43                1                   0                  0  \n",
       " 69                0                   1                  0  \n",
       " 119               0                   0                  1  \n",
       " 107               0                   0                  1  \n",
       " 140               0                   0                  1  \n",
       " 114               0                   0                  1  \n",
       " 104               0                   0                  1  \n",
       " 61                0                   1                  0  \n",
       " 26                1                   0                  0  \n",
       " 82                0                   1                  0  \n",
       " 8                 1                   0                  0  \n",
       " 24                1                   0                  0  \n",
       " 51                0                   1                  0  \n",
       " 115               0                   0                  1  \n",
       " 132               0                   0                  1  \n",
       " 126               0                   0                  1  \n",
       " 128               0                   0                  1  \n",
       " 14                1                   0                  0  \n",
       " 40                1                   0                  0  \n",
       " 59                0                   1                  0  \n",
       " 109               0                   0                  1  \n",
       " 57                0                   1                  0  \n",
       " 79                0                   1                  0  \n",
       " 103               0                   0                  1  \n",
       " 9                 1                   0                  0  \n",
       " 7                 1                   0                  0  \n",
       " 142               0                   0                  1  \n",
       " 112               0                   0                  1  \n",
       " 73                0                   1                  0  \n",
       " 83                0                   1                  0  \n",
       " 111               0                   0                  1  \n",
       " 120               0                   0                  1  \n",
       " 147               0                   0                  1  \n",
       " 131               0                   0                  1  \n",
       " 5                 1                   0                  0  \n",
       " 58                0                   1                  0  \n",
       " 118               0                   0                  1  \n",
       " 141               0                   0                  1  \n",
       " 11                1                   0                  0  \n",
       " 29                1                   0                  0  \n",
       " 96                0                   1                  0  \n",
       " 44                1                   0                  0  \n",
       " 97                0                   1                  0  ,\n",
       "         species  sepal_length  sepal_width  petal_length  petal_width  \\\n",
       " 124   virginica           6.7          3.3           5.7          2.1   \n",
       " 62   versicolor           6.0          2.2           4.0          1.0   \n",
       " 122   virginica           7.7          2.8           6.7          2.0   \n",
       " 98   versicolor           5.1          2.5           3.0          1.1   \n",
       " 64   versicolor           5.6          2.9           3.6          1.3   \n",
       " 60   versicolor           5.0          2.0           3.5          1.0   \n",
       " 136   virginica           6.3          3.4           5.6          2.4   \n",
       " 39       setosa           5.1          3.4           1.5          0.2   \n",
       " 27       setosa           5.2          3.5           1.5          0.2   \n",
       " 13       setosa           4.3          3.0           1.1          0.1   \n",
       " 99   versicolor           5.7          2.8           4.1          1.3   \n",
       " 90   versicolor           5.5          2.6           4.4          1.2   \n",
       " 121   virginica           5.6          2.8           4.9          2.0   \n",
       " 10       setosa           5.4          3.7           1.5          0.2   \n",
       " 47       setosa           4.6          3.2           1.4          0.2   \n",
       " 143   virginica           6.8          3.2           5.9          2.3   \n",
       " 21       setosa           5.1          3.7           1.5          0.4   \n",
       " 66   versicolor           5.6          3.0           4.5          1.5   \n",
       " 78   versicolor           6.0          2.9           4.5          1.5   \n",
       " 148   virginica           6.2          3.4           5.4          2.3   \n",
       " 113   virginica           5.7          2.5           5.0          2.0   \n",
       " 75   versicolor           6.6          3.0           4.4          1.4   \n",
       " 37       setosa           4.9          3.6           1.4          0.1   \n",
       " 49       setosa           5.0          3.3           1.4          0.2   \n",
       " 134   virginica           6.1          2.6           5.6          1.4   \n",
       " 106   virginica           4.9          2.5           4.5          1.7   \n",
       " 102   virginica           7.1          3.0           5.9          2.1   \n",
       " 71   versicolor           6.1          2.8           4.0          1.3   \n",
       " 30       setosa           4.8          3.1           1.6          0.2   \n",
       " 0        setosa           5.1          3.5           1.4          0.2   \n",
       " \n",
       "      species_setosa  species_versicolor  species_virginica  \n",
       " 124               0                   0                  1  \n",
       " 62                0                   1                  0  \n",
       " 122               0                   0                  1  \n",
       " 98                0                   1                  0  \n",
       " 64                0                   1                  0  \n",
       " 60                0                   1                  0  \n",
       " 136               0                   0                  1  \n",
       " 39                1                   0                  0  \n",
       " 27                1                   0                  0  \n",
       " 13                1                   0                  0  \n",
       " 99                0                   1                  0  \n",
       " 90                0                   1                  0  \n",
       " 121               0                   0                  1  \n",
       " 10                1                   0                  0  \n",
       " 47                1                   0                  0  \n",
       " 143               0                   0                  1  \n",
       " 21                1                   0                  0  \n",
       " 66                0                   1                  0  \n",
       " 78                0                   1                  0  \n",
       " 148               0                   0                  1  \n",
       " 113               0                   0                  1  \n",
       " 75                0                   1                  0  \n",
       " 37                1                   0                  0  \n",
       " 49                1                   0                  0  \n",
       " 134               0                   0                  1  \n",
       " 106               0                   0                  1  \n",
       " 102               0                   0                  1  \n",
       " 71                0                   1                  0  \n",
       " 30                1                   0                  0  \n",
       " 0                 1                   0                  0  ,\n",
       "         species  sepal_length  sepal_width  petal_length  petal_width  \\\n",
       " 80   versicolor           5.5          2.4           3.8          1.1   \n",
       " 45       setosa           4.8          3.0           1.4          0.3   \n",
       " 144   virginica           6.7          3.3           5.7          2.5   \n",
       " 110   virginica           6.5          3.2           5.1          2.0   \n",
       " 38       setosa           4.4          3.0           1.3          0.2   \n",
       " 2        setosa           4.7          3.2           1.3          0.2   \n",
       " 135   virginica           7.7          3.0           6.1          2.3   \n",
       " 72   versicolor           6.3          2.5           4.9          1.5   \n",
       " 138   virginica           6.0          3.0           4.8          1.8   \n",
       " 34       setosa           4.9          3.1           1.5          0.2   \n",
       " 19       setosa           5.1          3.8           1.5          0.3   \n",
       " 77   versicolor           6.7          3.0           5.0          1.7   \n",
       " 101   virginica           5.8          2.7           5.1          1.9   \n",
       " 63   versicolor           6.1          2.9           4.7          1.4   \n",
       " 117   virginica           7.7          3.8           6.7          2.2   \n",
       " 76   versicolor           6.8          2.8           4.8          1.4   \n",
       " 42       setosa           4.4          3.2           1.3          0.2   \n",
       " 22       setosa           4.6          3.6           1.0          0.2   \n",
       " 28       setosa           5.2          3.4           1.4          0.2   \n",
       " 33       setosa           5.5          4.2           1.4          0.2   \n",
       " 17       setosa           5.1          3.5           1.4          0.3   \n",
       " 116   virginica           6.5          3.0           5.5          1.8   \n",
       " 127   virginica           6.1          3.0           4.9          1.8   \n",
       " 56   versicolor           6.3          3.3           4.7          1.6   \n",
       " 105   virginica           7.6          3.0           6.6          2.1   \n",
       " 146   virginica           6.3          2.5           5.0          1.9   \n",
       " 93   versicolor           5.0          2.3           3.3          1.0   \n",
       " 86   versicolor           6.7          3.1           4.7          1.5   \n",
       " 68   versicolor           6.2          2.2           4.5          1.5   \n",
       " 65   versicolor           6.7          3.1           4.4          1.4   \n",
       " \n",
       "      species_setosa  species_versicolor  species_virginica  \n",
       " 80                0                   1                  0  \n",
       " 45                1                   0                  0  \n",
       " 144               0                   0                  1  \n",
       " 110               0                   0                  1  \n",
       " 38                1                   0                  0  \n",
       " 2                 1                   0                  0  \n",
       " 135               0                   0                  1  \n",
       " 72                0                   1                  0  \n",
       " 138               0                   0                  1  \n",
       " 34                1                   0                  0  \n",
       " 19                1                   0                  0  \n",
       " 77                0                   1                  0  \n",
       " 101               0                   0                  1  \n",
       " 63                0                   1                  0  \n",
       " 117               0                   0                  1  \n",
       " 76                0                   1                  0  \n",
       " 42                1                   0                  0  \n",
       " 22                1                   0                  0  \n",
       " 28                1                   0                  0  \n",
       " 33                1                   0                  0  \n",
       " 17                1                   0                  0  \n",
       " 116               0                   0                  1  \n",
       " 127               0                   0                  1  \n",
       " 56                0                   1                  0  \n",
       " 105               0                   0                  1  \n",
       " 146               0                   0                  1  \n",
       " 93                0                   1                  0  \n",
       " 86                0                   1                  0  \n",
       " 68                0                   1                  0  \n",
       " 65                0                   1                  0  )"
      ]
     },
     "execution_count": 182,
     "metadata": {},
     "output_type": "execute_result"
    }
   ],
   "source": [
    "# 2. Run the function in your notebook on the Iris dataset, returning 3 datasets, train_iris, validate_iris and test_iris.\n",
    "\n",
    "from sklearn.model_selection import train_test_split\n",
    "\n",
    "def split_data(df, stratify=None):\n",
    "    '''\n",
    "    take in a DataFrame and return train, validate, and test DataFrames; stratify on a specified variable.\n",
    "    return train, validate, test DataFrames.\n",
    "    '''\n",
    "    train_validate, test = train_test_split(df, test_size=.2, random_state=123, stratify=df[stratify])\n",
    "    train, validate = train_test_split(train_validate, \n",
    "                                       test_size=.25, \n",
    "                                       random_state=123, \n",
    "                                       stratify=train_validate[stratify])\n",
    "    print(f'Train: {len(train)/len(df)}')\n",
    "    print(f'Validate: {len(validate)/len(df)}')\n",
    "    print(f'Test: {len(test)/len(df)}')\n",
    "    \n",
    "    return train, validate, test\n",
    "\n",
    "split_data(iris, 'species')"
   ]
  },
  {
   "cell_type": "code",
   "execution_count": 183,
   "metadata": {},
   "outputs": [
    {
     "name": "stdout",
     "output_type": "stream",
     "text": [
      "Train: 0.5993265993265994\n",
      "Validate: 0.19977553310886645\n",
      "Test: 0.20089786756453423\n"
     ]
    },
    {
     "data": {
      "text/plain": [
       "(     passenger_id  survived  pclass     sex  sibsp  parch      fare  \\\n",
       " 455           455         1       3    male      0      0    7.8958   \n",
       " 380           380         1       1  female      0      0  227.5250   \n",
       " 492           492         0       1    male      0      0   30.5000   \n",
       " 55             55         1       1    male      0      0   35.5000   \n",
       " 243           243         0       3    male      0      0    7.1250   \n",
       " ..            ...       ...     ...     ...    ...    ...       ...   \n",
       " 695           695         0       2    male      0      0   13.5000   \n",
       " 128           128         1       3  female      1      1   22.3583   \n",
       " 636           636         0       3    male      0      0    7.9250   \n",
       " 222           222         0       3    male      0      0    8.0500   \n",
       " 496           496         1       1  female      1      0   78.2667   \n",
       " \n",
       "      embark_town  alone  sex_male  embark_town_Queenstown  \\\n",
       " 455    Cherbourg      1         1                       0   \n",
       " 380    Cherbourg      1         0                       0   \n",
       " 492  Southampton      1         1                       0   \n",
       " 55   Southampton      1         1                       0   \n",
       " 243  Southampton      1         1                       0   \n",
       " ..           ...    ...       ...                     ...   \n",
       " 695  Southampton      1         1                       0   \n",
       " 128    Cherbourg      0         0                       0   \n",
       " 636  Southampton      1         1                       0   \n",
       " 222  Southampton      1         1                       0   \n",
       " 496    Cherbourg      0         0                       0   \n",
       " \n",
       "      embark_town_Southampton  \n",
       " 455                        0  \n",
       " 380                        0  \n",
       " 492                        1  \n",
       " 55                         1  \n",
       " 243                        1  \n",
       " ..                       ...  \n",
       " 695                        1  \n",
       " 128                        0  \n",
       " 636                        1  \n",
       " 222                        1  \n",
       " 496                        0  \n",
       " \n",
       " [534 rows x 12 columns],\n",
       "      passenger_id  survived  pclass     sex  sibsp  parch     fare  \\\n",
       " 176           176         0       3    male      3      1  25.4667   \n",
       " 372           372         0       3    male      0      0   8.0500   \n",
       " 678           678         0       3  female      1      6  46.9000   \n",
       " 778           778         0       3    male      0      0   7.7375   \n",
       " 463           463         0       2    male      0      0  13.0000   \n",
       " ..            ...       ...     ...     ...    ...    ...      ...   \n",
       " 622           622         1       3    male      1      1  15.7417   \n",
       " 302           302         0       3    male      0      0   0.0000   \n",
       " 518           518         1       2  female      1      0  26.0000   \n",
       " 765           765         1       1  female      1      0  77.9583   \n",
       " 837           837         0       3    male      0      0   8.0500   \n",
       " \n",
       "      embark_town  alone  sex_male  embark_town_Queenstown  \\\n",
       " 176  Southampton      0         1                       0   \n",
       " 372  Southampton      1         1                       0   \n",
       " 678  Southampton      0         0                       0   \n",
       " 778   Queenstown      1         1                       1   \n",
       " 463  Southampton      1         1                       0   \n",
       " ..           ...    ...       ...                     ...   \n",
       " 622    Cherbourg      0         1                       0   \n",
       " 302  Southampton      1         1                       0   \n",
       " 518  Southampton      0         0                       0   \n",
       " 765  Southampton      0         0                       0   \n",
       " 837  Southampton      1         1                       0   \n",
       " \n",
       "      embark_town_Southampton  \n",
       " 176                        1  \n",
       " 372                        1  \n",
       " 678                        1  \n",
       " 778                        0  \n",
       " 463                        1  \n",
       " ..                       ...  \n",
       " 622                        0  \n",
       " 302                        1  \n",
       " 518                        1  \n",
       " 765                        1  \n",
       " 837                        1  \n",
       " \n",
       " [178 rows x 12 columns],\n",
       "      passenger_id  survived  pclass     sex  sibsp  parch      fare  \\\n",
       " 561           561         0       3    male      0      0    7.8958   \n",
       " 641           641         1       1  female      0      0   69.3000   \n",
       " 400           400         1       3    male      0      0    7.9250   \n",
       " 498           498         0       1  female      1      2  151.5500   \n",
       " 875           875         1       3  female      0      0    7.2250   \n",
       " ..            ...       ...     ...     ...    ...    ...       ...   \n",
       " 339           339         0       1    male      0      0   35.5000   \n",
       " 841           841         0       2    male      0      0   10.5000   \n",
       " 442           442         0       3    male      1      0    7.7750   \n",
       " 815           815         0       1    male      0      0    0.0000   \n",
       " 53             53         1       2  female      1      0   26.0000   \n",
       " \n",
       "      embark_town  alone  sex_male  embark_town_Queenstown  \\\n",
       " 561  Southampton      1         1                       0   \n",
       " 641    Cherbourg      1         0                       0   \n",
       " 400  Southampton      1         1                       0   \n",
       " 498  Southampton      0         0                       0   \n",
       " 875    Cherbourg      1         0                       0   \n",
       " ..           ...    ...       ...                     ...   \n",
       " 339  Southampton      1         1                       0   \n",
       " 841  Southampton      1         1                       0   \n",
       " 442  Southampton      0         1                       0   \n",
       " 815  Southampton      1         1                       0   \n",
       " 53   Southampton      0         0                       0   \n",
       " \n",
       "      embark_town_Southampton  \n",
       " 561                        1  \n",
       " 641                        0  \n",
       " 400                        1  \n",
       " 498                        1  \n",
       " 875                        0  \n",
       " ..                       ...  \n",
       " 339                        1  \n",
       " 841                        1  \n",
       " 442                        1  \n",
       " 815                        1  \n",
       " 53                         1  \n",
       " \n",
       " [179 rows x 12 columns])"
      ]
     },
     "execution_count": 183,
     "metadata": {},
     "output_type": "execute_result"
    }
   ],
   "source": [
    "# 3. Run the function on the Titanic dataset, returning 3 datasets, train_titanic, validate_titanic and test_titanic.\n",
    "\n",
    "split_data(titanic, 'survived')"
   ]
  },
  {
   "cell_type": "code",
   "execution_count": 185,
   "metadata": {},
   "outputs": [
    {
     "name": "stdout",
     "output_type": "stream",
     "text": [
      "Train: 0.5998864120403238\n",
      "Validate: 0.20005679397983814\n",
      "Test: 0.20005679397983814\n"
     ]
    },
    {
     "data": {
      "text/plain": [
       "(     customer_id  senior_citizen  married  kids  tenure  phone_service  \\\n",
       " 4385  6179-GJPSO               1        0     0      43              1   \n",
       " 3928  5529-GIBVH               0        0     0      47              1   \n",
       " 5489  7727-SHVZV               0        0     0       9              1   \n",
       " 2959  4227-OJHAL               0        1     1      68              1   \n",
       " 5320  7516-GMHUV               1        1     0      50              1   \n",
       " ...          ...             ...      ...   ...     ...            ...   \n",
       " 2577  3682-YEUWS               0        1     1      10              1   \n",
       " 6244  8824-RWFXJ               0        1     1       3              1   \n",
       " 4617  6508-NJYRO               0        1     0      15              1   \n",
       " 1158  1702-CCFNJ               0        1     0      52              1   \n",
       " 2219  3174-RKMOW               0        1     1      35              1   \n",
       " \n",
       "      multiple_lines      online_security        online_backup  \\\n",
       " 4385              0                    1                    1   \n",
       " 3928              0  No internet service  No internet service   \n",
       " 5489              0  No internet service  No internet service   \n",
       " 2959              1                    1                    1   \n",
       " 5320              1                    1                    0   \n",
       " ...             ...                  ...                  ...   \n",
       " 2577              1  No internet service  No internet service   \n",
       " 6244              0                    0                    1   \n",
       " 4617              0  No internet service  No internet service   \n",
       " 1158              1                    0                    1   \n",
       " 2219              1                    0                    1   \n",
       " \n",
       "         device_protection  ... internet_service_type  \\\n",
       " 4385                    0  ...           Fiber optic   \n",
       " 3928  No internet service  ...                  None   \n",
       " 5489  No internet service  ...                  None   \n",
       " 2959                    1  ...                   DSL   \n",
       " 5320                    1  ...           Fiber optic   \n",
       " ...                   ...  ...                   ...   \n",
       " 2577  No internet service  ...                  None   \n",
       " 6244                    1  ...                   DSL   \n",
       " 4617  No internet service  ...                  None   \n",
       " 1158                    0  ...                   DSL   \n",
       " 2219                    1  ...           Fiber optic   \n",
       " \n",
       "                    payment_type is_male  contract_type_One year  \\\n",
       " 4385    Credit card (automatic)       0                       0   \n",
       " 3928               Mailed check       0                       0   \n",
       " 5489  Bank transfer (automatic)       0                       0   \n",
       " 2959    Credit card (automatic)       0                       1   \n",
       " 5320    Credit card (automatic)       1                       0   \n",
       " ...                         ...     ...                     ...   \n",
       " 2577               Mailed check       1                       0   \n",
       " 6244               Mailed check       1                       0   \n",
       " 4617               Mailed check       1                       1   \n",
       " 1158  Bank transfer (automatic)       1                       0   \n",
       " 2219           Electronic check       1                       0   \n",
       " \n",
       "       contract_type_Two year  internet_service_type_Fiber optic  \\\n",
       " 4385                       0                                  1   \n",
       " 3928                       1                                  0   \n",
       " 5489                       0                                  0   \n",
       " 2959                       0                                  0   \n",
       " 5320                       1                                  1   \n",
       " ...                      ...                                ...   \n",
       " 2577                       0                                  0   \n",
       " 6244                       0                                  0   \n",
       " 4617                       0                                  0   \n",
       " 1158                       0                                  0   \n",
       " 2219                       0                                  1   \n",
       " \n",
       "       internet_service_type_None payment_type_Credit card (automatic)  \\\n",
       " 4385                           0                                    1   \n",
       " 3928                           1                                    0   \n",
       " 5489                           1                                    0   \n",
       " 2959                           0                                    1   \n",
       " 5320                           0                                    1   \n",
       " ...                          ...                                  ...   \n",
       " 2577                           1                                    0   \n",
       " 6244                           0                                    0   \n",
       " 4617                           1                                    0   \n",
       " 1158                           0                                    0   \n",
       " 2219                           0                                    0   \n",
       " \n",
       "      payment_type_Electronic check payment_type_Mailed check  \n",
       " 4385                             0                         0  \n",
       " 3928                             0                         1  \n",
       " 5489                             0                         0  \n",
       " 2959                             0                         0  \n",
       " 5320                             0                         0  \n",
       " ...                            ...                       ...  \n",
       " 2577                             0                         1  \n",
       " 6244                             0                         1  \n",
       " 4617                             0                         1  \n",
       " 1158                             0                         0  \n",
       " 2219                             1                         0  \n",
       " \n",
       " [4225 rows x 28 columns],\n",
       "      customer_id  senior_citizen  married  kids  tenure  phone_service  \\\n",
       " 864   1257-SXUXQ               0        1     1       5              1   \n",
       " 6294  8904-OPDCK               1        1     0      54              0   \n",
       " 6051  8573-CGOCC               0        0     0      16              1   \n",
       " 6682  9498-FIMXL               0        0     0       8              1   \n",
       " 2008  2897-DOVND               0        0     0       2              1   \n",
       " ...          ...             ...      ...   ...     ...            ...   \n",
       " 2802  3985-HOYPM               0        0     0      26              1   \n",
       " 1346  2002-MZHWP               0        0     0       1              1   \n",
       " 6208  8779-YIQQA               0        1     1      21              1   \n",
       " 6947  9851-KIELU               0        0     0      10              1   \n",
       " 292   0430-IHCDJ               0        0     0      15              1   \n",
       " \n",
       "         multiple_lines      online_security        online_backup  \\\n",
       " 864                  0  No internet service  No internet service   \n",
       " 6294  No phone service                    0                    0   \n",
       " 6051                 0  No internet service  No internet service   \n",
       " 6682                 0  No internet service  No internet service   \n",
       " 2008                 0                    0                    0   \n",
       " ...                ...                  ...                  ...   \n",
       " 2802                 0  No internet service  No internet service   \n",
       " 1346                 0  No internet service  No internet service   \n",
       " 6208                 0  No internet service  No internet service   \n",
       " 6947                 0                    1                    1   \n",
       " 292                  1                    0                    0   \n",
       " \n",
       "         device_protection  ... internet_service_type  \\\n",
       " 864   No internet service  ...                  None   \n",
       " 6294                    0  ...                   DSL   \n",
       " 6051  No internet service  ...                  None   \n",
       " 6682  No internet service  ...                  None   \n",
       " 2008                    0  ...           Fiber optic   \n",
       " ...                   ...  ...                   ...   \n",
       " 2802  No internet service  ...                  None   \n",
       " 1346  No internet service  ...                  None   \n",
       " 6208  No internet service  ...                  None   \n",
       " 6947                    1  ...           Fiber optic   \n",
       " 292                     0  ...                   DSL   \n",
       " \n",
       "                    payment_type is_male  contract_type_One year  \\\n",
       " 864                Mailed check       1                       0   \n",
       " 6294  Bank transfer (automatic)       1                       0   \n",
       " 6051    Credit card (automatic)       1                       0   \n",
       " 6682               Mailed check       0                       1   \n",
       " 2008           Electronic check       1                       0   \n",
       " ...                         ...     ...                     ...   \n",
       " 2802               Mailed check       1                       1   \n",
       " 1346               Mailed check       0                       0   \n",
       " 6208               Mailed check       1                       1   \n",
       " 6947           Electronic check       1                       0   \n",
       " 292            Electronic check       1                       0   \n",
       " \n",
       "       contract_type_Two year  internet_service_type_Fiber optic  \\\n",
       " 864                        0                                  0   \n",
       " 6294                       0                                  0   \n",
       " 6051                       0                                  0   \n",
       " 6682                       0                                  0   \n",
       " 2008                       0                                  1   \n",
       " ...                      ...                                ...   \n",
       " 2802                       0                                  0   \n",
       " 1346                       0                                  0   \n",
       " 6208                       0                                  0   \n",
       " 6947                       0                                  1   \n",
       " 292                        0                                  0   \n",
       " \n",
       "       internet_service_type_None payment_type_Credit card (automatic)  \\\n",
       " 864                            1                                    0   \n",
       " 6294                           0                                    0   \n",
       " 6051                           1                                    1   \n",
       " 6682                           1                                    0   \n",
       " 2008                           0                                    0   \n",
       " ...                          ...                                  ...   \n",
       " 2802                           1                                    0   \n",
       " 1346                           1                                    0   \n",
       " 6208                           1                                    0   \n",
       " 6947                           0                                    0   \n",
       " 292                            0                                    0   \n",
       " \n",
       "      payment_type_Electronic check payment_type_Mailed check  \n",
       " 864                              0                         1  \n",
       " 6294                             0                         0  \n",
       " 6051                             0                         0  \n",
       " 6682                             0                         1  \n",
       " 2008                             1                         0  \n",
       " ...                            ...                       ...  \n",
       " 2802                             0                         1  \n",
       " 1346                             0                         1  \n",
       " 6208                             0                         1  \n",
       " 6947                             1                         0  \n",
       " 292                              1                         0  \n",
       " \n",
       " [1409 rows x 28 columns],\n",
       "      customer_id  senior_citizen  married  kids  tenure  phone_service  \\\n",
       " 6770  9614-RMGHA               0        1     0      65              1   \n",
       " 1869  2716-GFZOR               0        1     0      43              1   \n",
       " 6792  9639-BUJXT               0        0     0      63              1   \n",
       " 1857  2692-PFYTJ               0        0     0       1              1   \n",
       " 1250  1849-RJYIG               0        0     0       8              1   \n",
       " ...          ...             ...      ...   ...     ...            ...   \n",
       " 2143  3074-GQWYX               0        0     0       5              1   \n",
       " 6452  9135-HSWOC               0        1     1      64              1   \n",
       " 2040  2933-FILNV               0        1     1       2              0   \n",
       " 6176  8741-LQOBK               0        1     1      46              0   \n",
       " 2977  4255-DDUOU               0        1     1       1              1   \n",
       " \n",
       "         multiple_lines      online_security        online_backup  \\\n",
       " 6770                 1                    0                    1   \n",
       " 1869                 0                    1                    1   \n",
       " 6792                 0  No internet service  No internet service   \n",
       " 1857                 1  No internet service  No internet service   \n",
       " 1250                 0                    1                    0   \n",
       " ...                ...                  ...                  ...   \n",
       " 2143                 1                    0                    0   \n",
       " 6452                 0  No internet service  No internet service   \n",
       " 2040  No phone service                    0                    0   \n",
       " 6176  No phone service                    1                    1   \n",
       " 2977                 0  No internet service  No internet service   \n",
       " \n",
       "         device_protection  ... internet_service_type  \\\n",
       " 6770                    0  ...           Fiber optic   \n",
       " 1869                    1  ...           Fiber optic   \n",
       " 6792  No internet service  ...                  None   \n",
       " 1857  No internet service  ...                  None   \n",
       " 1250                    0  ...                   DSL   \n",
       " ...                   ...  ...                   ...   \n",
       " 2143                    0  ...           Fiber optic   \n",
       " 6452  No internet service  ...                  None   \n",
       " 2040                    0  ...                   DSL   \n",
       " 6176                    0  ...                   DSL   \n",
       " 2977  No internet service  ...                  None   \n",
       " \n",
       "                    payment_type is_male  contract_type_One year  \\\n",
       " 6770  Bank transfer (automatic)       1                       0   \n",
       " 1869    Credit card (automatic)       1                       0   \n",
       " 6792               Mailed check       1                       1   \n",
       " 1857               Mailed check       0                       0   \n",
       " 1250           Electronic check       0                       0   \n",
       " ...                         ...     ...                     ...   \n",
       " 2143  Bank transfer (automatic)       1                       0   \n",
       " 6452  Bank transfer (automatic)       1                       0   \n",
       " 2040               Mailed check       0                       0   \n",
       " 6176  Bank transfer (automatic)       0                       0   \n",
       " 2977               Mailed check       0                       0   \n",
       " \n",
       "       contract_type_Two year  internet_service_type_Fiber optic  \\\n",
       " 6770                       0                                  1   \n",
       " 1869                       0                                  1   \n",
       " 6792                       0                                  0   \n",
       " 1857                       0                                  0   \n",
       " 1250                       0                                  0   \n",
       " ...                      ...                                ...   \n",
       " 2143                       0                                  1   \n",
       " 6452                       1                                  0   \n",
       " 2040                       0                                  0   \n",
       " 6176                       0                                  0   \n",
       " 2977                       0                                  0   \n",
       " \n",
       "       internet_service_type_None payment_type_Credit card (automatic)  \\\n",
       " 6770                           0                                    0   \n",
       " 1869                           0                                    1   \n",
       " 6792                           1                                    0   \n",
       " 1857                           1                                    0   \n",
       " 1250                           0                                    0   \n",
       " ...                          ...                                  ...   \n",
       " 2143                           0                                    0   \n",
       " 6452                           1                                    0   \n",
       " 2040                           0                                    0   \n",
       " 6176                           0                                    0   \n",
       " 2977                           1                                    0   \n",
       " \n",
       "      payment_type_Electronic check payment_type_Mailed check  \n",
       " 6770                             0                         0  \n",
       " 1869                             0                         0  \n",
       " 6792                             0                         1  \n",
       " 1857                             0                         1  \n",
       " 1250                             1                         0  \n",
       " ...                            ...                       ...  \n",
       " 2143                             0                         0  \n",
       " 6452                             0                         0  \n",
       " 2040                             0                         1  \n",
       " 6176                             0                         0  \n",
       " 2977                             0                         1  \n",
       " \n",
       " [1409 rows x 28 columns])"
      ]
     },
     "execution_count": 185,
     "metadata": {},
     "output_type": "execute_result"
    }
   ],
   "source": [
    "# 4. Run the function on the Telco dataset, returning 3 datasets, train_telco, validate_telco and test_telco.\n",
    "\n",
    "split_data(telco, 'internet_service_type')"
   ]
  },
  {
   "cell_type": "markdown",
   "metadata": {},
   "source": [
    "# Notes"
   ]
  },
  {
   "cell_type": "code",
   "execution_count": null,
   "metadata": {},
   "outputs": [],
   "source": [
    "import pandas as pd"
   ]
  },
  {
   "cell_type": "markdown",
   "metadata": {},
   "source": [
    "In your data acquisition function, first check to see if the csv file exists. If it does, read from the csv file, otherwise get the data \"fresh\".\n",
    "\n",
    "```python\n",
    "import os\n",
    "\n",
    "def get_titanic_data():\n",
    "    filename = \"titanic.csv\"\n",
    "\n",
    "    if os.path.isfile(filename):\n",
    "        return pd.read_csv(filename)\n",
    "    else:\n",
    "        # Create the engine\n",
    "        engine = create_engine(get_connection('titanic_db'))\n",
    "\n",
    "        # Read the SQL query into a dataframe\n",
    "        df = pd.read_sql(text('SELECT * FROM passengers'), engine.connect())\n",
    "\n",
    "        # Write that dataframe to disk for later. Called \"caching\" the data for later.\n",
    "        df.to_file(filename)\n",
    "\n",
    "        # Return the dataframe to the calling code\n",
    "        return df  \n",
    "```"
   ]
  },
  {
   "cell_type": "markdown",
   "metadata": {},
   "source": []
  }
 ],
 "metadata": {
  "kernelspec": {
   "display_name": "Python 3",
   "language": "python",
   "name": "python3"
  },
  "language_info": {
   "codemirror_mode": {
    "name": "ipython",
    "version": 3
   },
   "file_extension": ".py",
   "mimetype": "text/x-python",
   "name": "python",
   "nbconvert_exporter": "python",
   "pygments_lexer": "ipython3",
   "version": "3.11.3"
  },
  "orig_nbformat": 4
 },
 "nbformat": 4,
 "nbformat_minor": 2
}
